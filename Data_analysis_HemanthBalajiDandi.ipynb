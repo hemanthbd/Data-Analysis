{
  "nbformat": 4,
  "nbformat_minor": 0,
  "metadata": {
    "colab": {
      "name": "Data_analysis_HemanthBalajiDandi.ipynb",
      "version": "0.3.2",
      "provenance": []
    },
    "kernelspec": {
      "name": "python3",
      "display_name": "Python 3"
    }
  },
  "cells": [
    {
      "metadata": {
        "id": "jX015xRvLVG4",
        "colab_type": "text"
      },
      "cell_type": "markdown",
      "source": [
        "# The Sample Data Task\n",
        "\n"
      ]
    },
    {
      "metadata": {
        "id": "N0IE6whyd6xH",
        "colab_type": "code",
        "colab": {}
      },
      "cell_type": "code",
      "source": [
        "import numpy as np\n",
        "import scipy.io\n",
        "import os\n",
        "import pandas as pd\n",
        "from pandas import Series\n",
        "import matplotlib.pyplot as plt \n",
        "import scipy.stats as stats\n",
        "import seaborn as sns\n"
      ],
      "execution_count": 0,
      "outputs": []
    },
    {
      "metadata": {
        "id": "ikpNrFsocmmX",
        "colab_type": "text"
      },
      "cell_type": "markdown",
      "source": [
        "## Uploading the sample data csv file to Drive and opening it in Google Colab\n"
      ]
    },
    {
      "metadata": {
        "id": "SuFpERCVmI7d",
        "colab_type": "code",
        "outputId": "29cb319f-ad78-47e2-d1f8-969e91d0bb11",
        "colab": {
          "base_uri": "https://localhost:8080/",
          "height": 52
        }
      },
      "cell_type": "code",
      "source": [
        "folder_id = '1xWCwgDeEHCqeOoKP9xC4XPOD2ueGh62H' \n",
        "\n",
        "!pip install -U -q PyDrive\n",
        "\n",
        "from pydrive.auth import GoogleAuth\n",
        "from pydrive.drive import GoogleDrive\n",
        "from google.colab import auth\n",
        "from oauth2client.client import GoogleCredentials\n",
        "\n",
        "\n",
        "# 1. Authenticate and create the PyDrive client.\n",
        "auth.authenticate_user()\n",
        "gauth = GoogleAuth()\n",
        "gauth.credentials = GoogleCredentials.get_application_default()\n",
        "drive = GoogleDrive(gauth)\n",
        "\n",
        "# choose a local (colab) directory to store the data.\n",
        "local_download_path = os.path.expanduser('~/data')\n",
        "try:\n",
        "  os.makedirs(local_download_path)\n",
        "except: pass\n",
        "\n",
        "# 2. Auto-iterate using the query syntax\n",
        "#    https://developers.google.com/drive/v2/web/search-parameters\n",
        "file_list = drive.ListFile(\n",
        "    {'q': '\\'' + folder_id + \"\\' in parents\"}).GetList()\n",
        "\n",
        "for f in file_list:\n",
        "  # 3. Create & download by id.\n",
        "  print('title: %s, id: %s' % (f['title'], f['id']))\n",
        "  fname = os.path.join(local_download_path, f['title'])\n",
        "  print('downloading to {}'.format(fname))\n",
        "  f_ = drive.CreateFile({'id': f['id']})\n",
        "  f_.GetContentFile(fname)\n",
        "  \n",
        "os.chdir(local_download_path)"
      ],
      "execution_count": 2,
      "outputs": [
        {
          "output_type": "stream",
          "text": [
            "title: sample_data.txt, id: 1DG1vz4aRgyMPWuOkEDhsEwyA5QmXS0_i\n",
            "downloading to /root/data/sample_data.txt\n"
          ],
          "name": "stdout"
        }
      ]
    },
    {
      "metadata": {
        "id": "PsMZ9kHQfuR_",
        "colab_type": "text"
      },
      "cell_type": "markdown",
      "source": [
        "## Reading the data file"
      ]
    },
    {
      "metadata": {
        "id": "fAcoYSQamTa3",
        "colab_type": "code",
        "colab": {}
      },
      "cell_type": "code",
      "source": [
        "data = pd.read_csv('sample_data.txt') # Reading as a csv file"
      ],
      "execution_count": 0,
      "outputs": []
    },
    {
      "metadata": {
        "id": "wKYlV2aUgyX0",
        "colab_type": "code",
        "outputId": "3b0c499e-1dda-4cef-9c24-bc48155f38b2",
        "colab": {
          "base_uri": "https://localhost:8080/",
          "height": 202
        }
      },
      "cell_type": "code",
      "source": [
        "data.head() # Displaying few values to check what the data is like"
      ],
      "execution_count": 4,
      "outputs": [
        {
          "output_type": "execute_result",
          "data": {
            "text/html": [
              "<div>\n",
              "<style scoped>\n",
              "    .dataframe tbody tr th:only-of-type {\n",
              "        vertical-align: middle;\n",
              "    }\n",
              "\n",
              "    .dataframe tbody tr th {\n",
              "        vertical-align: top;\n",
              "    }\n",
              "\n",
              "    .dataframe thead th {\n",
              "        text-align: right;\n",
              "    }\n",
              "</style>\n",
              "<table border=\"1\" class=\"dataframe\">\n",
              "  <thead>\n",
              "    <tr style=\"text-align: right;\">\n",
              "      <th></th>\n",
              "      <th>Timestamp</th>\n",
              "      <th>Stream1</th>\n",
              "      <th>Stream2</th>\n",
              "      <th>Stream3</th>\n",
              "      <th>Stream4</th>\n",
              "      <th>Overall</th>\n",
              "      <th>Truth</th>\n",
              "    </tr>\n",
              "  </thead>\n",
              "  <tbody>\n",
              "    <tr>\n",
              "      <th>0</th>\n",
              "      <td>[2016-07-05 20:01:32.470]</td>\n",
              "      <td>False</td>\n",
              "      <td>False</td>\n",
              "      <td>False</td>\n",
              "      <td>False</td>\n",
              "      <td>False</td>\n",
              "      <td>False</td>\n",
              "    </tr>\n",
              "    <tr>\n",
              "      <th>1</th>\n",
              "      <td>[2016-07-05 20:01:32.580]</td>\n",
              "      <td>False</td>\n",
              "      <td>False</td>\n",
              "      <td>False</td>\n",
              "      <td>False</td>\n",
              "      <td>False</td>\n",
              "      <td>False</td>\n",
              "    </tr>\n",
              "    <tr>\n",
              "      <th>2</th>\n",
              "      <td>[2016-07-05 20:01:32.727]</td>\n",
              "      <td>False</td>\n",
              "      <td>False</td>\n",
              "      <td>False</td>\n",
              "      <td>False</td>\n",
              "      <td>False</td>\n",
              "      <td>False</td>\n",
              "    </tr>\n",
              "    <tr>\n",
              "      <th>3</th>\n",
              "      <td>[2016-07-05 20:01:32.837]</td>\n",
              "      <td>False</td>\n",
              "      <td>False</td>\n",
              "      <td>False</td>\n",
              "      <td>False</td>\n",
              "      <td>False</td>\n",
              "      <td>False</td>\n",
              "    </tr>\n",
              "    <tr>\n",
              "      <th>4</th>\n",
              "      <td>[2016-07-05 20:01:32.947]</td>\n",
              "      <td>False</td>\n",
              "      <td>False</td>\n",
              "      <td>False</td>\n",
              "      <td>False</td>\n",
              "      <td>False</td>\n",
              "      <td>False</td>\n",
              "    </tr>\n",
              "  </tbody>\n",
              "</table>\n",
              "</div>"
            ],
            "text/plain": [
              "                   Timestamp  Stream1  Stream2  Stream3  Stream4  Overall  \\\n",
              "0  [2016-07-05 20:01:32.470]    False    False    False    False    False   \n",
              "1  [2016-07-05 20:01:32.580]    False    False    False    False    False   \n",
              "2  [2016-07-05 20:01:32.727]    False    False    False    False    False   \n",
              "3  [2016-07-05 20:01:32.837]    False    False    False    False    False   \n",
              "4  [2016-07-05 20:01:32.947]    False    False    False    False    False   \n",
              "\n",
              "    Truth  \n",
              "0   False  \n",
              "1   False  \n",
              "2   False  \n",
              "3   False  \n",
              "4   False  "
            ]
          },
          "metadata": {
            "tags": []
          },
          "execution_count": 4
        }
      ]
    },
    {
      "metadata": {
        "id": "FoKbrlphf5mP",
        "colab_type": "text"
      },
      "cell_type": "markdown",
      "source": [
        "### Checking the data to see if there are null objects"
      ]
    },
    {
      "metadata": {
        "id": "kfYLZA8YmvJc",
        "colab_type": "code",
        "outputId": "c9b77c79-f38f-48c7-b956-88e14c26694c",
        "colab": {
          "base_uri": "https://localhost:8080/",
          "height": 225
        }
      },
      "cell_type": "code",
      "source": [
        "data.info() # Display information about the data like number of entries, dtype, memory,any empty objects, etc."
      ],
      "execution_count": 5,
      "outputs": [
        {
          "output_type": "stream",
          "text": [
            "<class 'pandas.core.frame.DataFrame'>\n",
            "RangeIndex: 8241 entries, 0 to 8240\n",
            "Data columns (total 7 columns):\n",
            "Timestamp    8241 non-null object\n",
            " Stream1     8241 non-null object\n",
            " Stream2     8241 non-null object\n",
            " Stream3     8241 non-null object\n",
            " Stream4     8241 non-null object\n",
            " Overall     8241 non-null object\n",
            " Truth       8241 non-null object\n",
            "dtypes: object(7)\n",
            "memory usage: 450.8+ KB\n"
          ],
          "name": "stdout"
        }
      ]
    },
    {
      "metadata": {
        "id": "OiLXRmfKgi4u",
        "colab_type": "text"
      },
      "cell_type": "markdown",
      "source": [
        "### Defining column names"
      ]
    },
    {
      "metadata": {
        "id": "U21xbGnSm4YC",
        "colab_type": "code",
        "colab": {}
      },
      "cell_type": "code",
      "source": [
        "data.columns = ['Timestamp', 'Stream1', 'Stream2', 'Stream3', 'Stream4', 'Overall', 'Truth'] # Setting the columns for the dataframe\n"
      ],
      "execution_count": 0,
      "outputs": []
    },
    {
      "metadata": {
        "id": "DQZRkPt2gqGD",
        "colab_type": "text"
      },
      "cell_type": "markdown",
      "source": [
        "### Convert boolean objects to binary\n"
      ]
    },
    {
      "metadata": {
        "id": "oVF_OFqBqnLQ",
        "colab_type": "code",
        "colab": {}
      },
      "cell_type": "code",
      "source": [
        "#columns = ['Stream1','Stream2','Stream3','Stream4','Overall','Truth']\n",
        "for col in data.columns[1:]:\n",
        "  data[col]= np.where(data[col].str.contains('True'), 1, 0) # Replace True/False with Binary."
      ],
      "execution_count": 0,
      "outputs": []
    },
    {
      "metadata": {
        "id": "V9jp611Yg-KX",
        "colab_type": "text"
      },
      "cell_type": "markdown",
      "source": [
        "### View the modified **data**"
      ]
    },
    {
      "metadata": {
        "id": "-KhuRbsfg7je",
        "colab_type": "code",
        "outputId": "513eb07e-c787-42dc-c0b5-07e0d290a882",
        "colab": {
          "base_uri": "https://localhost:8080/",
          "height": 202
        }
      },
      "cell_type": "code",
      "source": [
        "data.head()"
      ],
      "execution_count": 8,
      "outputs": [
        {
          "output_type": "execute_result",
          "data": {
            "text/html": [
              "<div>\n",
              "<style scoped>\n",
              "    .dataframe tbody tr th:only-of-type {\n",
              "        vertical-align: middle;\n",
              "    }\n",
              "\n",
              "    .dataframe tbody tr th {\n",
              "        vertical-align: top;\n",
              "    }\n",
              "\n",
              "    .dataframe thead th {\n",
              "        text-align: right;\n",
              "    }\n",
              "</style>\n",
              "<table border=\"1\" class=\"dataframe\">\n",
              "  <thead>\n",
              "    <tr style=\"text-align: right;\">\n",
              "      <th></th>\n",
              "      <th>Timestamp</th>\n",
              "      <th>Stream1</th>\n",
              "      <th>Stream2</th>\n",
              "      <th>Stream3</th>\n",
              "      <th>Stream4</th>\n",
              "      <th>Overall</th>\n",
              "      <th>Truth</th>\n",
              "    </tr>\n",
              "  </thead>\n",
              "  <tbody>\n",
              "    <tr>\n",
              "      <th>0</th>\n",
              "      <td>[2016-07-05 20:01:32.470]</td>\n",
              "      <td>0</td>\n",
              "      <td>0</td>\n",
              "      <td>0</td>\n",
              "      <td>0</td>\n",
              "      <td>0</td>\n",
              "      <td>0</td>\n",
              "    </tr>\n",
              "    <tr>\n",
              "      <th>1</th>\n",
              "      <td>[2016-07-05 20:01:32.580]</td>\n",
              "      <td>0</td>\n",
              "      <td>0</td>\n",
              "      <td>0</td>\n",
              "      <td>0</td>\n",
              "      <td>0</td>\n",
              "      <td>0</td>\n",
              "    </tr>\n",
              "    <tr>\n",
              "      <th>2</th>\n",
              "      <td>[2016-07-05 20:01:32.727]</td>\n",
              "      <td>0</td>\n",
              "      <td>0</td>\n",
              "      <td>0</td>\n",
              "      <td>0</td>\n",
              "      <td>0</td>\n",
              "      <td>0</td>\n",
              "    </tr>\n",
              "    <tr>\n",
              "      <th>3</th>\n",
              "      <td>[2016-07-05 20:01:32.837]</td>\n",
              "      <td>0</td>\n",
              "      <td>0</td>\n",
              "      <td>0</td>\n",
              "      <td>0</td>\n",
              "      <td>0</td>\n",
              "      <td>0</td>\n",
              "    </tr>\n",
              "    <tr>\n",
              "      <th>4</th>\n",
              "      <td>[2016-07-05 20:01:32.947]</td>\n",
              "      <td>0</td>\n",
              "      <td>0</td>\n",
              "      <td>0</td>\n",
              "      <td>0</td>\n",
              "      <td>0</td>\n",
              "      <td>0</td>\n",
              "    </tr>\n",
              "  </tbody>\n",
              "</table>\n",
              "</div>"
            ],
            "text/plain": [
              "                   Timestamp  Stream1  Stream2  Stream3  Stream4  Overall  \\\n",
              "0  [2016-07-05 20:01:32.470]        0        0        0        0        0   \n",
              "1  [2016-07-05 20:01:32.580]        0        0        0        0        0   \n",
              "2  [2016-07-05 20:01:32.727]        0        0        0        0        0   \n",
              "3  [2016-07-05 20:01:32.837]        0        0        0        0        0   \n",
              "4  [2016-07-05 20:01:32.947]        0        0        0        0        0   \n",
              "\n",
              "   Truth  \n",
              "0      0  \n",
              "1      0  \n",
              "2      0  \n",
              "3      0  \n",
              "4      0  "
            ]
          },
          "metadata": {
            "tags": []
          },
          "execution_count": 8
        }
      ]
    },
    {
      "metadata": {
        "id": "ts3MEaUyhP-d",
        "colab_type": "text"
      },
      "cell_type": "markdown",
      "source": [
        "## Seeing that it's a time-series data, import the data as a time-series dataframe"
      ]
    },
    {
      "metadata": {
        "id": "PLmdHzSW_Jr8",
        "colab_type": "code",
        "colab": {}
      },
      "cell_type": "code",
      "source": [
        "dateparse = lambda dates: pd.datetime.strptime(dates, '[%Y-%m-%d %H:%M:%S.%f]')  # Parse dates in a particular format defined in the data\n",
        "data_ts = pd.read_csv('sample_data.txt', parse_dates=['Timestamp'], index_col='Timestamp', date_parser=dateparse) # Read as a timeseries dataframe\n"
      ],
      "execution_count": 0,
      "outputs": []
    },
    {
      "metadata": {
        "id": "HmhiYUWxhj0w",
        "colab_type": "text"
      },
      "cell_type": "markdown",
      "source": [
        "### Let's view the time-series dataframe"
      ]
    },
    {
      "metadata": {
        "id": "RAclWUoWhi4v",
        "colab_type": "code",
        "outputId": "bb58e67f-1896-4e50-9ad4-149fef5459bd",
        "colab": {
          "base_uri": "https://localhost:8080/",
          "height": 339
        }
      },
      "cell_type": "code",
      "source": [
        "data_ts.head()"
      ],
      "execution_count": 10,
      "outputs": [
        {
          "output_type": "execute_result",
          "data": {
            "text/html": [
              "<div>\n",
              "<style scoped>\n",
              "    .dataframe tbody tr th:only-of-type {\n",
              "        vertical-align: middle;\n",
              "    }\n",
              "\n",
              "    .dataframe tbody tr th {\n",
              "        vertical-align: top;\n",
              "    }\n",
              "\n",
              "    .dataframe thead th {\n",
              "        text-align: right;\n",
              "    }\n",
              "</style>\n",
              "<table border=\"1\" class=\"dataframe\">\n",
              "  <thead>\n",
              "    <tr style=\"text-align: right;\">\n",
              "      <th></th>\n",
              "      <th>Stream1</th>\n",
              "      <th>Stream2</th>\n",
              "      <th>Stream3</th>\n",
              "      <th>Stream4</th>\n",
              "      <th>Overall</th>\n",
              "      <th>Truth</th>\n",
              "    </tr>\n",
              "    <tr>\n",
              "      <th>Timestamp</th>\n",
              "      <th></th>\n",
              "      <th></th>\n",
              "      <th></th>\n",
              "      <th></th>\n",
              "      <th></th>\n",
              "      <th></th>\n",
              "    </tr>\n",
              "  </thead>\n",
              "  <tbody>\n",
              "    <tr>\n",
              "      <th>2016-07-05 20:01:32.470</th>\n",
              "      <td>False</td>\n",
              "      <td>False</td>\n",
              "      <td>False</td>\n",
              "      <td>False</td>\n",
              "      <td>False</td>\n",
              "      <td>False</td>\n",
              "    </tr>\n",
              "    <tr>\n",
              "      <th>2016-07-05 20:01:32.580</th>\n",
              "      <td>False</td>\n",
              "      <td>False</td>\n",
              "      <td>False</td>\n",
              "      <td>False</td>\n",
              "      <td>False</td>\n",
              "      <td>False</td>\n",
              "    </tr>\n",
              "    <tr>\n",
              "      <th>2016-07-05 20:01:32.727</th>\n",
              "      <td>False</td>\n",
              "      <td>False</td>\n",
              "      <td>False</td>\n",
              "      <td>False</td>\n",
              "      <td>False</td>\n",
              "      <td>False</td>\n",
              "    </tr>\n",
              "    <tr>\n",
              "      <th>2016-07-05 20:01:32.837</th>\n",
              "      <td>False</td>\n",
              "      <td>False</td>\n",
              "      <td>False</td>\n",
              "      <td>False</td>\n",
              "      <td>False</td>\n",
              "      <td>False</td>\n",
              "    </tr>\n",
              "    <tr>\n",
              "      <th>2016-07-05 20:01:32.947</th>\n",
              "      <td>False</td>\n",
              "      <td>False</td>\n",
              "      <td>False</td>\n",
              "      <td>False</td>\n",
              "      <td>False</td>\n",
              "      <td>False</td>\n",
              "    </tr>\n",
              "  </tbody>\n",
              "</table>\n",
              "</div>"
            ],
            "text/plain": [
              "                         Stream1  Stream2  Stream3  Stream4  Overall   Truth\n",
              "Timestamp                                                                   \n",
              "2016-07-05 20:01:32.470    False    False    False    False    False   False\n",
              "2016-07-05 20:01:32.580    False    False    False    False    False   False\n",
              "2016-07-05 20:01:32.727    False    False    False    False    False   False\n",
              "2016-07-05 20:01:32.837    False    False    False    False    False   False\n",
              "2016-07-05 20:01:32.947    False    False    False    False    False   False"
            ]
          },
          "metadata": {
            "tags": []
          },
          "execution_count": 10
        }
      ]
    },
    {
      "metadata": {
        "id": "KaHeShWsiGr5",
        "colab_type": "text"
      },
      "cell_type": "markdown",
      "source": [
        "### Define column names and convert boolean objects to binary"
      ]
    },
    {
      "metadata": {
        "id": "0m-uGg35VtKm",
        "colab_type": "code",
        "colab": {}
      },
      "cell_type": "code",
      "source": [
        "data_ts.columns = ['Stream1', 'Stream2', 'Stream3', 'Stream4', 'Overall', 'Truth']\n",
        "#columns = ['Stream1','Stream2','Stream3','Stream4','Overall','Truth']\n",
        "for col in data_ts.columns:\n",
        "  data_ts[col] = np.where(data_ts[col].str.contains('True'), 1, 0) # Replace True/False with Binary."
      ],
      "execution_count": 0,
      "outputs": []
    },
    {
      "metadata": {
        "id": "_S5VO9ZPiPEQ",
        "colab_type": "text"
      },
      "cell_type": "markdown",
      "source": [
        "### Let's view the modified time-series dataframe"
      ]
    },
    {
      "metadata": {
        "id": "1JevxGJxiONL",
        "colab_type": "code",
        "outputId": "6d6648f9-de38-464f-d3e5-580100fbc6c3",
        "colab": {
          "base_uri": "https://localhost:8080/",
          "height": 339
        }
      },
      "cell_type": "code",
      "source": [
        "data_ts.head()"
      ],
      "execution_count": 12,
      "outputs": [
        {
          "output_type": "execute_result",
          "data": {
            "text/html": [
              "<div>\n",
              "<style scoped>\n",
              "    .dataframe tbody tr th:only-of-type {\n",
              "        vertical-align: middle;\n",
              "    }\n",
              "\n",
              "    .dataframe tbody tr th {\n",
              "        vertical-align: top;\n",
              "    }\n",
              "\n",
              "    .dataframe thead th {\n",
              "        text-align: right;\n",
              "    }\n",
              "</style>\n",
              "<table border=\"1\" class=\"dataframe\">\n",
              "  <thead>\n",
              "    <tr style=\"text-align: right;\">\n",
              "      <th></th>\n",
              "      <th>Stream1</th>\n",
              "      <th>Stream2</th>\n",
              "      <th>Stream3</th>\n",
              "      <th>Stream4</th>\n",
              "      <th>Overall</th>\n",
              "      <th>Truth</th>\n",
              "    </tr>\n",
              "    <tr>\n",
              "      <th>Timestamp</th>\n",
              "      <th></th>\n",
              "      <th></th>\n",
              "      <th></th>\n",
              "      <th></th>\n",
              "      <th></th>\n",
              "      <th></th>\n",
              "    </tr>\n",
              "  </thead>\n",
              "  <tbody>\n",
              "    <tr>\n",
              "      <th>2016-07-05 20:01:32.470</th>\n",
              "      <td>0</td>\n",
              "      <td>0</td>\n",
              "      <td>0</td>\n",
              "      <td>0</td>\n",
              "      <td>0</td>\n",
              "      <td>0</td>\n",
              "    </tr>\n",
              "    <tr>\n",
              "      <th>2016-07-05 20:01:32.580</th>\n",
              "      <td>0</td>\n",
              "      <td>0</td>\n",
              "      <td>0</td>\n",
              "      <td>0</td>\n",
              "      <td>0</td>\n",
              "      <td>0</td>\n",
              "    </tr>\n",
              "    <tr>\n",
              "      <th>2016-07-05 20:01:32.727</th>\n",
              "      <td>0</td>\n",
              "      <td>0</td>\n",
              "      <td>0</td>\n",
              "      <td>0</td>\n",
              "      <td>0</td>\n",
              "      <td>0</td>\n",
              "    </tr>\n",
              "    <tr>\n",
              "      <th>2016-07-05 20:01:32.837</th>\n",
              "      <td>0</td>\n",
              "      <td>0</td>\n",
              "      <td>0</td>\n",
              "      <td>0</td>\n",
              "      <td>0</td>\n",
              "      <td>0</td>\n",
              "    </tr>\n",
              "    <tr>\n",
              "      <th>2016-07-05 20:01:32.947</th>\n",
              "      <td>0</td>\n",
              "      <td>0</td>\n",
              "      <td>0</td>\n",
              "      <td>0</td>\n",
              "      <td>0</td>\n",
              "      <td>0</td>\n",
              "    </tr>\n",
              "  </tbody>\n",
              "</table>\n",
              "</div>"
            ],
            "text/plain": [
              "                         Stream1  Stream2  Stream3  Stream4  Overall  Truth\n",
              "Timestamp                                                                  \n",
              "2016-07-05 20:01:32.470        0        0        0        0        0      0\n",
              "2016-07-05 20:01:32.580        0        0        0        0        0      0\n",
              "2016-07-05 20:01:32.727        0        0        0        0        0      0\n",
              "2016-07-05 20:01:32.837        0        0        0        0        0      0\n",
              "2016-07-05 20:01:32.947        0        0        0        0        0      0"
            ]
          },
          "metadata": {
            "tags": []
          },
          "execution_count": 12
        }
      ]
    },
    {
      "metadata": {
        "id": "UgcwQrvKiYWT",
        "colab_type": "text"
      },
      "cell_type": "markdown",
      "source": [
        "#Data Analysis\n",
        "SInce the objective is to use the data from the node streams to somehow figure out if a person is present or not, I thought it would make more sense to club the time-stamps in intervals, and see what happens.\n",
        "Now, within each interval, if there are more number of 'True's than 'False's for a Node's stream, it is reasonable to say that the Node stream value for that interval will be True, and vice-versa.\n",
        "In Statistics, it's nothing but the mode in the interval for each Node Stream.\n"
      ]
    },
    {
      "metadata": {
        "id": "qFHVuXnhvvjF",
        "colab_type": "text"
      },
      "cell_type": "markdown",
      "source": [
        "## Assumption 1: \n",
        "\n",
        "1) All Nodes are working fine\n",
        "\n",
        "2) There is no blindspot where all the Node Streams cannot reach."
      ]
    },
    {
      "metadata": {
        "id": "pUUOy3jLkFHY",
        "colab_type": "text"
      },
      "cell_type": "markdown",
      "source": [
        "### Case 1: I am going to resample (group/ take intervals) for every 1 minute. \n",
        "This also helps to consider the temporal characteristics in a minute, as in a minute, the number (1 or 0) which occurs the most should reflect the output for the minute."
      ]
    },
    {
      "metadata": {
        "id": "FIsBi0heByha",
        "colab_type": "code",
        "outputId": "04541dd6-2025-4f5f-eb8a-afbd02e9fcff",
        "colab": {
          "base_uri": "https://localhost:8080/",
          "height": 1275
        }
      },
      "cell_type": "code",
      "source": [
        "data_ts_1min=data_ts.resample('1min').apply(lambda x: stats.mode(x)[0]) # The Time-series Dataframe sampled every 1 minute, and in that minute, mode of each Node streams are taken.\n",
        "data_ts_1min\n",
        "\n"
      ],
      "execution_count": 13,
      "outputs": [
        {
          "output_type": "execute_result",
          "data": {
            "text/html": [
              "<div>\n",
              "<style scoped>\n",
              "    .dataframe tbody tr th:only-of-type {\n",
              "        vertical-align: middle;\n",
              "    }\n",
              "\n",
              "    .dataframe tbody tr th {\n",
              "        vertical-align: top;\n",
              "    }\n",
              "\n",
              "    .dataframe thead th {\n",
              "        text-align: right;\n",
              "    }\n",
              "</style>\n",
              "<table border=\"1\" class=\"dataframe\">\n",
              "  <thead>\n",
              "    <tr style=\"text-align: right;\">\n",
              "      <th></th>\n",
              "      <th>Stream1</th>\n",
              "      <th>Stream2</th>\n",
              "      <th>Stream3</th>\n",
              "      <th>Stream4</th>\n",
              "      <th>Overall</th>\n",
              "      <th>Truth</th>\n",
              "    </tr>\n",
              "    <tr>\n",
              "      <th>Timestamp</th>\n",
              "      <th></th>\n",
              "      <th></th>\n",
              "      <th></th>\n",
              "      <th></th>\n",
              "      <th></th>\n",
              "      <th></th>\n",
              "    </tr>\n",
              "  </thead>\n",
              "  <tbody>\n",
              "    <tr>\n",
              "      <th>2016-07-05 20:01:00</th>\n",
              "      <td>0</td>\n",
              "      <td>0</td>\n",
              "      <td>0</td>\n",
              "      <td>0</td>\n",
              "      <td>0</td>\n",
              "      <td>0</td>\n",
              "    </tr>\n",
              "    <tr>\n",
              "      <th>2016-07-05 20:02:00</th>\n",
              "      <td>0</td>\n",
              "      <td>1</td>\n",
              "      <td>0</td>\n",
              "      <td>0</td>\n",
              "      <td>1</td>\n",
              "      <td>1</td>\n",
              "    </tr>\n",
              "    <tr>\n",
              "      <th>2016-07-05 20:03:00</th>\n",
              "      <td>1</td>\n",
              "      <td>1</td>\n",
              "      <td>0</td>\n",
              "      <td>0</td>\n",
              "      <td>1</td>\n",
              "      <td>1</td>\n",
              "    </tr>\n",
              "    <tr>\n",
              "      <th>2016-07-05 20:04:00</th>\n",
              "      <td>1</td>\n",
              "      <td>0</td>\n",
              "      <td>0</td>\n",
              "      <td>0</td>\n",
              "      <td>1</td>\n",
              "      <td>1</td>\n",
              "    </tr>\n",
              "    <tr>\n",
              "      <th>2016-07-05 20:05:00</th>\n",
              "      <td>0</td>\n",
              "      <td>0</td>\n",
              "      <td>0</td>\n",
              "      <td>0</td>\n",
              "      <td>1</td>\n",
              "      <td>1</td>\n",
              "    </tr>\n",
              "    <tr>\n",
              "      <th>2016-07-05 20:06:00</th>\n",
              "      <td>0</td>\n",
              "      <td>0</td>\n",
              "      <td>0</td>\n",
              "      <td>1</td>\n",
              "      <td>1</td>\n",
              "      <td>1</td>\n",
              "    </tr>\n",
              "    <tr>\n",
              "      <th>2016-07-05 20:07:00</th>\n",
              "      <td>0</td>\n",
              "      <td>0</td>\n",
              "      <td>0</td>\n",
              "      <td>1</td>\n",
              "      <td>1</td>\n",
              "      <td>1</td>\n",
              "    </tr>\n",
              "    <tr>\n",
              "      <th>2016-07-05 20:08:00</th>\n",
              "      <td>0</td>\n",
              "      <td>0</td>\n",
              "      <td>0</td>\n",
              "      <td>0</td>\n",
              "      <td>0</td>\n",
              "      <td>0</td>\n",
              "    </tr>\n",
              "    <tr>\n",
              "      <th>2016-07-05 20:09:00</th>\n",
              "      <td>0</td>\n",
              "      <td>0</td>\n",
              "      <td>0</td>\n",
              "      <td>0</td>\n",
              "      <td>0</td>\n",
              "      <td>0</td>\n",
              "    </tr>\n",
              "    <tr>\n",
              "      <th>2016-07-05 20:10:00</th>\n",
              "      <td>0</td>\n",
              "      <td>0</td>\n",
              "      <td>0</td>\n",
              "      <td>0</td>\n",
              "      <td>0</td>\n",
              "      <td>0</td>\n",
              "    </tr>\n",
              "    <tr>\n",
              "      <th>2016-07-05 20:11:00</th>\n",
              "      <td>0</td>\n",
              "      <td>0</td>\n",
              "      <td>0</td>\n",
              "      <td>1</td>\n",
              "      <td>1</td>\n",
              "      <td>1</td>\n",
              "    </tr>\n",
              "    <tr>\n",
              "      <th>2016-07-05 20:12:00</th>\n",
              "      <td>0</td>\n",
              "      <td>0</td>\n",
              "      <td>0</td>\n",
              "      <td>1</td>\n",
              "      <td>1</td>\n",
              "      <td>1</td>\n",
              "    </tr>\n",
              "    <tr>\n",
              "      <th>2016-07-05 20:13:00</th>\n",
              "      <td>0</td>\n",
              "      <td>1</td>\n",
              "      <td>0</td>\n",
              "      <td>0</td>\n",
              "      <td>1</td>\n",
              "      <td>1</td>\n",
              "    </tr>\n",
              "    <tr>\n",
              "      <th>2016-07-05 20:14:00</th>\n",
              "      <td>1</td>\n",
              "      <td>0</td>\n",
              "      <td>0</td>\n",
              "      <td>0</td>\n",
              "      <td>1</td>\n",
              "      <td>1</td>\n",
              "    </tr>\n",
              "    <tr>\n",
              "      <th>2016-07-05 20:15:00</th>\n",
              "      <td>0</td>\n",
              "      <td>0</td>\n",
              "      <td>0</td>\n",
              "      <td>0</td>\n",
              "      <td>1</td>\n",
              "      <td>1</td>\n",
              "    </tr>\n",
              "    <tr>\n",
              "      <th>2016-07-05 20:16:00</th>\n",
              "      <td>0</td>\n",
              "      <td>0</td>\n",
              "      <td>0</td>\n",
              "      <td>0</td>\n",
              "      <td>1</td>\n",
              "      <td>1</td>\n",
              "    </tr>\n",
              "    <tr>\n",
              "      <th>2016-07-05 20:17:00</th>\n",
              "      <td>0</td>\n",
              "      <td>0</td>\n",
              "      <td>0</td>\n",
              "      <td>0</td>\n",
              "      <td>1</td>\n",
              "      <td>0</td>\n",
              "    </tr>\n",
              "    <tr>\n",
              "      <th>2016-07-05 20:18:00</th>\n",
              "      <td>0</td>\n",
              "      <td>0</td>\n",
              "      <td>0</td>\n",
              "      <td>0</td>\n",
              "      <td>0</td>\n",
              "      <td>0</td>\n",
              "    </tr>\n",
              "  </tbody>\n",
              "</table>\n",
              "</div>"
            ],
            "text/plain": [
              "                     Stream1  Stream2  Stream3  Stream4  Overall  Truth\n",
              "Timestamp                                                              \n",
              "2016-07-05 20:01:00        0        0        0        0        0      0\n",
              "2016-07-05 20:02:00        0        1        0        0        1      1\n",
              "2016-07-05 20:03:00        1        1        0        0        1      1\n",
              "2016-07-05 20:04:00        1        0        0        0        1      1\n",
              "2016-07-05 20:05:00        0        0        0        0        1      1\n",
              "2016-07-05 20:06:00        0        0        0        1        1      1\n",
              "2016-07-05 20:07:00        0        0        0        1        1      1\n",
              "2016-07-05 20:08:00        0        0        0        0        0      0\n",
              "2016-07-05 20:09:00        0        0        0        0        0      0\n",
              "2016-07-05 20:10:00        0        0        0        0        0      0\n",
              "2016-07-05 20:11:00        0        0        0        1        1      1\n",
              "2016-07-05 20:12:00        0        0        0        1        1      1\n",
              "2016-07-05 20:13:00        0        1        0        0        1      1\n",
              "2016-07-05 20:14:00        1        0        0        0        1      1\n",
              "2016-07-05 20:15:00        0        0        0        0        1      1\n",
              "2016-07-05 20:16:00        0        0        0        0        1      1\n",
              "2016-07-05 20:17:00        0        0        0        0        1      0\n",
              "2016-07-05 20:18:00        0        0        0        0        0      0"
            ]
          },
          "metadata": {
            "tags": []
          },
          "execution_count": 13
        }
      ]
    },
    {
      "metadata": {
        "id": "LBceqfGPk3qF",
        "colab_type": "text"
      },
      "cell_type": "markdown",
      "source": [
        "#### Let's plot the data from each Node stream taken every 1 minute and analyse it"
      ]
    },
    {
      "metadata": {
        "id": "oRls5UU5kv1m",
        "colab_type": "code",
        "outputId": "23c12438-b981-4536-ab26-21d8cafe995a",
        "colab": {
          "base_uri": "https://localhost:8080/",
          "height": 367
        }
      },
      "cell_type": "code",
      "source": [
        "for i,j in enumerate(data_ts.columns,1):\n",
        "  plt.subplot(2,3,i)\n",
        "  df = data_ts_1min[j]\n",
        "  plt.plot(df)"
      ],
      "execution_count": 14,
      "outputs": [
        {
          "output_type": "display_data",
          "data": {
            "image/png": "[encoded data removed]",
            "text/plain": [
              "<Figure size 576x396 with 6 Axes>"
            ]
          },
          "metadata": {
            "tags": []
          }
        }
      ]
    },
    {
      "metadata": {
        "id": "ppddnl2uleKo",
        "colab_type": "text"
      },
      "cell_type": "markdown",
      "source": [
        "#### Let's make the plots little better shall we?\n"
      ]
    },
    {
      "metadata": {
        "id": "qQtadfmTt3yw",
        "colab_type": "code",
        "outputId": "ab63ad83-4a23-439a-d536-d45aa1995a41",
        "colab": {
          "base_uri": "https://localhost:8080/",
          "height": 436
        }
      },
      "cell_type": "code",
      "source": [
        "fig, ax = plt.subplots(6, 1, sharex=True, sharey=True)\n",
        "data_ts_1min.index= data_ts_1min.index.strftime(\"%I:%M\") # Since we know the Date to be the same, so just the time is plotted.\n",
        "for i,j in enumerate(data_ts.columns,1):\n",
        "  df = data_ts_1min[j]\n",
        "  ax[i-1].plot(df)\n",
        "  ax[i-1].set_title(data_ts.columns[i-1], fontsize=10, pad=0.5)\n",
        "  if i==3:\n",
        "    ax[i-1].set(ylabel='Node Streams')\n",
        "  if i==6:\n",
        "    ax[i-1].set(xlabel='Time-Stamp[2016-07-05 PM]')\n",
        "#ax.xlabel('Time-Stamp (PM)')\n",
        "for axi in ax.flat:\n",
        "    axi.xaxis.set_major_locator(plt.MaxNLocator(10)) # Controls number of ticks at the axes. Here 10 is fine along the x-axis.\n",
        "    #axi.yaxis.set_major_locator(plt.MaxNLocator(2))\n",
        "\n",
        "caption=\"Plot of Node Streams(1-4) vs Time-Frame sampled at 1 minute\"\n",
        "fig.text(.5, 0.95, caption, ha='center')\n"
      ],
      "execution_count": 15,
      "outputs": [
        {
          "output_type": "execute_result",
          "data": {
            "text/plain": [
              "Text(0.5, 0.95, 'Plot of Node Streams(1-4) vs Time-Frame sampled at 1 minute')"
            ]
          },
          "metadata": {
            "tags": []
          },
          "execution_count": 15
        },
        {
          "output_type": "display_data",
          "data": {
            "image/png": "[encoded data removed]",
            "text/plain": [
              "<Figure size 576x396 with 6 Axes>"
            ]
          },
          "metadata": {
            "tags": []
          }
        }
      ]
    },
    {
      "metadata": {
        "id": "uhylOxs_zkNy",
        "colab_type": "text"
      },
      "cell_type": "markdown",
      "source": [
        "#### What do we see?\n",
        "In the time-interval 8:01-8:18pm,\n",
        "1. Stream1 : Between 8:03-8:04pm and at 8:14pm, Node1 detects something.\n",
        "2. Stream2:  Between 8:02-8:03pm and at 8:13pm, Node2 detects something.\n",
        "3. Stream3:  Node2 doesn't detect anything,\n",
        "4. Stream4:  Between 8:05pm-8:07pm and between 8:11-8:12pm, Node4 detects something\n",
        "5. Overall BlackBox: This takes in Stream1-4, and through some logic (unknown at this point), tells that, between 8:02-8:07pm and between 8:11-8:17pm, something was detected.\n",
        "6. Truth: This gives us the truth behind if something is present in the room or not. From the graph, the Truth says that there is a person between 8:02-8:07pm and between 8:11-8:16pm."
      ]
    },
    {
      "metadata": {
        "id": "ME6iWqAuJS3P",
        "colab_type": "text"
      },
      "cell_type": "markdown",
      "source": [
        "### Case 2: Now I am going to resample for every 2 minutes, and see what happens"
      ]
    },
    {
      "metadata": {
        "id": "-DZJT6qNcvw7",
        "colab_type": "code",
        "outputId": "e2369531-290a-4786-8256-1b3757884385",
        "colab": {
          "base_uri": "https://localhost:8080/",
          "height": 753
        }
      },
      "cell_type": "code",
      "source": [
        "data_ts_2min = data_ts.resample('2min').apply(lambda x: stats.mode(x)[0]) # The Time-series Dataframe sampled every 2 minute, and within those 2 minutes, mode of each Node streams are taken.\n",
        "data_ts_2min"
      ],
      "execution_count": 16,
      "outputs": [
        {
          "output_type": "execute_result",
          "data": {
            "text/html": [
              "<div>\n",
              "<style scoped>\n",
              "    .dataframe tbody tr th:only-of-type {\n",
              "        vertical-align: middle;\n",
              "    }\n",
              "\n",
              "    .dataframe tbody tr th {\n",
              "        vertical-align: top;\n",
              "    }\n",
              "\n",
              "    .dataframe thead th {\n",
              "        text-align: right;\n",
              "    }\n",
              "</style>\n",
              "<table border=\"1\" class=\"dataframe\">\n",
              "  <thead>\n",
              "    <tr style=\"text-align: right;\">\n",
              "      <th></th>\n",
              "      <th>Stream1</th>\n",
              "      <th>Stream2</th>\n",
              "      <th>Stream3</th>\n",
              "      <th>Stream4</th>\n",
              "      <th>Overall</th>\n",
              "      <th>Truth</th>\n",
              "    </tr>\n",
              "    <tr>\n",
              "      <th>Timestamp</th>\n",
              "      <th></th>\n",
              "      <th></th>\n",
              "      <th></th>\n",
              "      <th></th>\n",
              "      <th></th>\n",
              "      <th></th>\n",
              "    </tr>\n",
              "  </thead>\n",
              "  <tbody>\n",
              "    <tr>\n",
              "      <th>2016-07-05 20:00:00</th>\n",
              "      <td>0</td>\n",
              "      <td>0</td>\n",
              "      <td>0</td>\n",
              "      <td>0</td>\n",
              "      <td>0</td>\n",
              "      <td>0</td>\n",
              "    </tr>\n",
              "    <tr>\n",
              "      <th>2016-07-05 20:02:00</th>\n",
              "      <td>1</td>\n",
              "      <td>1</td>\n",
              "      <td>0</td>\n",
              "      <td>0</td>\n",
              "      <td>1</td>\n",
              "      <td>1</td>\n",
              "    </tr>\n",
              "    <tr>\n",
              "      <th>2016-07-05 20:04:00</th>\n",
              "      <td>1</td>\n",
              "      <td>0</td>\n",
              "      <td>0</td>\n",
              "      <td>0</td>\n",
              "      <td>1</td>\n",
              "      <td>1</td>\n",
              "    </tr>\n",
              "    <tr>\n",
              "      <th>2016-07-05 20:06:00</th>\n",
              "      <td>0</td>\n",
              "      <td>0</td>\n",
              "      <td>0</td>\n",
              "      <td>1</td>\n",
              "      <td>1</td>\n",
              "      <td>1</td>\n",
              "    </tr>\n",
              "    <tr>\n",
              "      <th>2016-07-05 20:08:00</th>\n",
              "      <td>0</td>\n",
              "      <td>0</td>\n",
              "      <td>0</td>\n",
              "      <td>0</td>\n",
              "      <td>0</td>\n",
              "      <td>0</td>\n",
              "    </tr>\n",
              "    <tr>\n",
              "      <th>2016-07-05 20:10:00</th>\n",
              "      <td>0</td>\n",
              "      <td>0</td>\n",
              "      <td>0</td>\n",
              "      <td>0</td>\n",
              "      <td>0</td>\n",
              "      <td>0</td>\n",
              "    </tr>\n",
              "    <tr>\n",
              "      <th>2016-07-05 20:12:00</th>\n",
              "      <td>0</td>\n",
              "      <td>0</td>\n",
              "      <td>0</td>\n",
              "      <td>0</td>\n",
              "      <td>1</td>\n",
              "      <td>1</td>\n",
              "    </tr>\n",
              "    <tr>\n",
              "      <th>2016-07-05 20:14:00</th>\n",
              "      <td>0</td>\n",
              "      <td>0</td>\n",
              "      <td>0</td>\n",
              "      <td>0</td>\n",
              "      <td>1</td>\n",
              "      <td>1</td>\n",
              "    </tr>\n",
              "    <tr>\n",
              "      <th>2016-07-05 20:16:00</th>\n",
              "      <td>0</td>\n",
              "      <td>0</td>\n",
              "      <td>0</td>\n",
              "      <td>0</td>\n",
              "      <td>1</td>\n",
              "      <td>1</td>\n",
              "    </tr>\n",
              "    <tr>\n",
              "      <th>2016-07-05 20:18:00</th>\n",
              "      <td>0</td>\n",
              "      <td>0</td>\n",
              "      <td>0</td>\n",
              "      <td>0</td>\n",
              "      <td>0</td>\n",
              "      <td>0</td>\n",
              "    </tr>\n",
              "  </tbody>\n",
              "</table>\n",
              "</div>"
            ],
            "text/plain": [
              "                     Stream1  Stream2  Stream3  Stream4  Overall  Truth\n",
              "Timestamp                                                              \n",
              "2016-07-05 20:00:00        0        0        0        0        0      0\n",
              "2016-07-05 20:02:00        1        1        0        0        1      1\n",
              "2016-07-05 20:04:00        1        0        0        0        1      1\n",
              "2016-07-05 20:06:00        0        0        0        1        1      1\n",
              "2016-07-05 20:08:00        0        0        0        0        0      0\n",
              "2016-07-05 20:10:00        0        0        0        0        0      0\n",
              "2016-07-05 20:12:00        0        0        0        0        1      1\n",
              "2016-07-05 20:14:00        0        0        0        0        1      1\n",
              "2016-07-05 20:16:00        0        0        0        0        1      1\n",
              "2016-07-05 20:18:00        0        0        0        0        0      0"
            ]
          },
          "metadata": {
            "tags": []
          },
          "execution_count": 16
        }
      ]
    },
    {
      "metadata": {
        "id": "Mha-WXcGJp2T",
        "colab_type": "text"
      },
      "cell_type": "markdown",
      "source": [
        "#### Let's plot the data from each Node stream again but for every 2 minutes and analyse it"
      ]
    },
    {
      "metadata": {
        "id": "QuIce5ifc4Wi",
        "colab_type": "code",
        "outputId": "361d751f-b6fe-4c41-a946-778fe15af65e",
        "colab": {
          "base_uri": "https://localhost:8080/",
          "height": 367
        }
      },
      "cell_type": "code",
      "source": [
        "for i,j in enumerate(data_ts.columns,1):\n",
        "  plt.subplot(2,3,i)\n",
        "  df = data_ts_2min[j]\n",
        "  plt.plot(df)"
      ],
      "execution_count": 17,
      "outputs": [
        {
          "output_type": "display_data",
          "data": {
            "image/png": "[encoded data removed]",
            "text/plain": [
              "<Figure size 576x396 with 6 Axes>"
            ]
          },
          "metadata": {
            "tags": []
          }
        }
      ]
    },
    {
      "metadata": {
        "id": "dnKOlUorJ01e",
        "colab_type": "text"
      },
      "cell_type": "markdown",
      "source": [
        "#### Let's again make the plots little better shall we?\n"
      ]
    },
    {
      "metadata": {
        "id": "j0E11UTouMod",
        "colab_type": "code",
        "outputId": "b73f6314-a2e4-433c-c2b6-3a4076873dbb",
        "colab": {
          "base_uri": "https://localhost:8080/",
          "height": 436
        }
      },
      "cell_type": "code",
      "source": [
        "fig, ax = plt.subplots(6, 1, sharex=True, sharey=True)\n",
        "data_ts_2min.index= data_ts_2min.index.strftime(\"%I:%M\") # We just use time once again.\n",
        "for i,j in enumerate(data_ts.columns,1):\n",
        "  df = data_ts_2min[j]\n",
        "  ax[i-1].plot(df)\n",
        "  ax[i-1].set_title(data_ts.columns[i-1], fontsize=10, pad=0.5)\n",
        "  if i==3:\n",
        "    ax[i-1].set(ylabel='Node Streams')\n",
        "  if i==6:\n",
        "    ax[i-1].set(xlabel='Time-Stamp[2016-07-05 PM]')\n",
        "\n",
        "for axi in ax.flat:\n",
        "    axi.xaxis.set_major_locator(plt.MaxNLocator(10))\n",
        "    #axi.yaxis.set_major_locator(plt.MaxNLocator(2))\n",
        "    \n",
        "caption=\"Plot of Node Streams(1-4) vs Time-Frame sampled at 2 minutes\"\n",
        "fig.text(.5, 0.95, caption, ha='center')\n"
      ],
      "execution_count": 18,
      "outputs": [
        {
          "output_type": "execute_result",
          "data": {
            "text/plain": [
              "Text(0.5, 0.95, 'Plot of Node Streams(1-4) vs Time-Frame sampled at 2 minutes')"
            ]
          },
          "metadata": {
            "tags": []
          },
          "execution_count": 18
        },
        {
          "output_type": "display_data",
          "data": {
            "image/png": "[encoded data removed]",
            "text/plain": [
              "<Figure size 576x396 with 6 Axes>"
            ]
          },
          "metadata": {
            "tags": []
          }
        }
      ]
    },
    {
      "metadata": {
        "id": "vkpLG74TzPVt",
        "colab_type": "text"
      },
      "cell_type": "markdown",
      "source": [
        "#### What do we see?\n",
        "In the time-interval 8:01-8:18pm,\n",
        "1. Stream1 : Between 8:02-8:04pm, Node1 detects something.\n",
        "2. Stream2:  Between 8:02-8:03pm and at 8:13pm, Node2 detects something.\n",
        "3. Stream3:  Node2 doesn't detect anything,\n",
        "4. Stream4:  Between 8:05pm-8:07pm and between 8:11-8:12pm, Node4 detects something\n",
        "5. Overall BlackBox: This takes in Stream1-4, and through some logic (unknown at this point), tells that, between 8:02-8:07pm and between 8:11-8:17pm, something was detected.\n",
        "6. Truth: This gives us the truth behind if something is present in the room or not. From the graph, the Truth says that there is a person between 8:02-8:07pm and between 8:11-8:16pm.\n",
        "\n",
        "When we compare the data sampled every 1 minute to that sampled every 2 minutes, the major difference is that there will be a loss in information as we increase our sample interval. Just want to keep tabs whether that loss in information would probably be more/less influenced in the black-box decision. It's a tradeoff between accuracy and speed which we have to keep in mind as well."
      ]
    },
    {
      "metadata": {
        "id": "8-Pb7vmlKaHc",
        "colab_type": "text"
      },
      "cell_type": "markdown",
      "source": [
        "###Let's try to figure out an algorithm which somewhat depicts the 'Truth'."
      ]
    },
    {
      "metadata": {
        "id": "h2pwLxJVeOBX",
        "colab_type": "code",
        "colab": {}
      },
      "cell_type": "code",
      "source": [
        "def OR(a,b): # OR-Gate logic. Returns HIGH if atleast one of the inputs is HIGH, otherwise returns LOW.\n",
        "  output = np.logical_or(a, b).astype(int)\n",
        "  return output\n"
      ],
      "execution_count": 0,
      "outputs": []
    },
    {
      "metadata": {
        "id": "6I2jSTaEKuFo",
        "colab_type": "text"
      },
      "cell_type": "markdown",
      "source": [
        "#### Each Stream outputs (from 1-4), are succesively 'OR gated' with each other, and that output is compared with the expected Overall and Truth columns.\n",
        "####Logic?\n",
        "If atleast one of the Node Streams have detected something, the output from the Overall blackbox should be 1. If none of the streams have detected anything, then surely, the blackbox should return a 0.\n",
        "\n",
        "This is a very simple and naive approach, but looking at the pattern, it does look like it would be enough to mimic the Truth values.\n",
        "\n",
        "The Assumption is that:\n",
        "1. All the Nodes are working fine.\n",
        "2. None of the nodes are tripped only due to person detection and nothing else."
      ]
    },
    {
      "metadata": {
        "id": "md3OMWZJNJ5q",
        "colab_type": "text"
      },
      "cell_type": "markdown",
      "source": [
        "####Case1: This is done first for the 1minute resampled data."
      ]
    },
    {
      "metadata": {
        "id": "juqGlbzgbzAa",
        "colab_type": "code",
        "outputId": "1fbb77dc-2a28-4185-b755-62042a96d9db",
        "colab": {
          "base_uri": "https://localhost:8080/",
          "height": 424
        }
      },
      "cell_type": "code",
      "source": [
        "df = OR(data_ts_1min[data_ts.columns[0]],data_ts_1min[data_ts.columns[1]])\n",
        "for i in range(1,3):\n",
        "  #print(columns[i+1])\n",
        "  df = OR(df,data_ts_1min[data_ts.columns[i+1]]) # Stream1-4 are consecutively OR-ed with each other. So, if atleast one of the Node-streams returns 1, the Output should be a 1, otherwise a 0\n",
        "\n",
        "fig, ax = plt.subplots(3, 1, sharex=True, sharey=True) # Plotting the Output of the proposed algorithm ('Perceived Algorithm') versus the 'Overall' and the 'Truth' columns\n",
        "#print(df.index)\n",
        "#df.index= df.index.strftime(\"%I:%M\")\n",
        "ax[0].plot(data_ts_1min['Overall'])\n",
        "ax[1].plot(data_ts_1min['Truth'])\n",
        "ax[2].plot(df)\n",
        "\n",
        "columns_new = ['Overall','Truth','Proposed Model']\n",
        "for i in range(3):\n",
        "  ax[i].set_title(columns_new[i], fontsize=10, pad=0.5)\n",
        "  if i==1:\n",
        "    ax[i].set(ylabel='Node Streams')\n",
        "  if i==2:\n",
        "    ax[i].set(xlabel='Time-Stamp[2016-07-05 PM]')\n",
        "\n",
        "\n",
        "for axi in ax.flat:\n",
        "    axi.xaxis.set_major_locator(plt.MaxNLocator(10))\n",
        "    #axi.yaxis.set_major_locator(plt.MaxNLocator(2))  \n",
        "    \n",
        "caption=\"Plot of Overall,Truth and Proposed Model Outputs vs Time-Frame sampled at 1 minute\"\n",
        "fig.text(.5, 0.92, caption, ha='center')\n",
        "\n"
      ],
      "execution_count": 20,
      "outputs": [
        {
          "output_type": "execute_result",
          "data": {
            "text/plain": [
              "Text(0.5, 0.92, 'Plot of Overall,Truth and Proposed Model Outputs vs Time-Frame sampled at 1 minute')"
            ]
          },
          "metadata": {
            "tags": []
          },
          "execution_count": 20
        },
        {
          "output_type": "display_data",
          "data": {
            "image/png": "[encoded data removed]",
            "text/plain": [
              "<Figure size 576x396 with 3 Axes>"
            ]
          },
          "metadata": {
            "tags": []
          }
        }
      ]
    },
    {
      "metadata": {
        "id": "u1o3w_hNLwo_",
        "colab_type": "text"
      },
      "cell_type": "markdown",
      "source": [
        "#### We can analyse from the graph how similar the Perceived Algorithm of the Overall Blackbox is with the original 'Overall' and 'Truth' values. \n",
        "Somewhat similar right?\n",
        "It's same from 8:01-8:04pm, 8:05-8:14pm and 8:17pm-8:18pm (Comparing with the Truth values)  \n",
        "#### Let's prove it analytically though. Let's find the correlation between each of them with one another and see.\n"
      ]
    },
    {
      "metadata": {
        "id": "mkQxoX2jg2fN",
        "colab_type": "code",
        "outputId": "29587946-2bc3-4cfd-a0f7-bdcdb7273170",
        "colab": {
          "base_uri": "https://localhost:8080/",
          "height": 89
        }
      },
      "cell_type": "code",
      "source": [
        "print(df.corr(data_ts_1min['Overall'])) # Correlation between Perceived Output and Overall\n",
        "print(df.corr(data_ts_1min['Truth'])) # Correlation between Perceived Output and Truth\n",
        "print(data_ts_1min['Overall'].corr(data_ts_1min['Truth'])) # Correlation between Overall and Truth"
      ],
      "execution_count": 21,
      "outputs": [
        {
          "output_type": "stream",
          "text": [
            "0.6201736729460422\n",
            "0.7071067811865474\n",
            "0.8770580193070291\n"
          ],
          "name": "stdout"
        }
      ]
    },
    {
      "metadata": {
        "id": "HwFQ4IESzwyq",
        "colab_type": "text"
      },
      "cell_type": "markdown",
      "source": [
        "We see that the Perceived Algorithm is 62% correlated with the expected Overall column of the Blackbox, and is  70.7% correlated with that of the Truth, which isn't that bad, but could be better as the Overall and the Truth are 87.7% correlated, which is what we want to aim for and/or beat."
      ]
    },
    {
      "metadata": {
        "id": "XcSuCPGVhM8U",
        "colab_type": "code",
        "outputId": "d7017be4-f291-4c7d-a9c6-6ccceaa5c12d",
        "colab": {
          "base_uri": "https://localhost:8080/",
          "height": 638
        }
      },
      "cell_type": "code",
      "source": [
        "data_ts_1min['Proposed Model']=df\n",
        "data_ts_1min # The Perceived Model column added to the original dataframe for comparision."
      ],
      "execution_count": 22,
      "outputs": [
        {
          "output_type": "execute_result",
          "data": {
            "text/html": [
              "<div>\n",
              "<style scoped>\n",
              "    .dataframe tbody tr th:only-of-type {\n",
              "        vertical-align: middle;\n",
              "    }\n",
              "\n",
              "    .dataframe tbody tr th {\n",
              "        vertical-align: top;\n",
              "    }\n",
              "\n",
              "    .dataframe thead th {\n",
              "        text-align: right;\n",
              "    }\n",
              "</style>\n",
              "<table border=\"1\" class=\"dataframe\">\n",
              "  <thead>\n",
              "    <tr style=\"text-align: right;\">\n",
              "      <th></th>\n",
              "      <th>Stream1</th>\n",
              "      <th>Stream2</th>\n",
              "      <th>Stream3</th>\n",
              "      <th>Stream4</th>\n",
              "      <th>Overall</th>\n",
              "      <th>Truth</th>\n",
              "      <th>Proposed Model</th>\n",
              "    </tr>\n",
              "  </thead>\n",
              "  <tbody>\n",
              "    <tr>\n",
              "      <th>08:01</th>\n",
              "      <td>0</td>\n",
              "      <td>0</td>\n",
              "      <td>0</td>\n",
              "      <td>0</td>\n",
              "      <td>0</td>\n",
              "      <td>0</td>\n",
              "      <td>0</td>\n",
              "    </tr>\n",
              "    <tr>\n",
              "      <th>08:02</th>\n",
              "      <td>0</td>\n",
              "      <td>1</td>\n",
              "      <td>0</td>\n",
              "      <td>0</td>\n",
              "      <td>1</td>\n",
              "      <td>1</td>\n",
              "      <td>1</td>\n",
              "    </tr>\n",
              "    <tr>\n",
              "      <th>08:03</th>\n",
              "      <td>1</td>\n",
              "      <td>1</td>\n",
              "      <td>0</td>\n",
              "      <td>0</td>\n",
              "      <td>1</td>\n",
              "      <td>1</td>\n",
              "      <td>1</td>\n",
              "    </tr>\n",
              "    <tr>\n",
              "      <th>08:04</th>\n",
              "      <td>1</td>\n",
              "      <td>0</td>\n",
              "      <td>0</td>\n",
              "      <td>0</td>\n",
              "      <td>1</td>\n",
              "      <td>1</td>\n",
              "      <td>1</td>\n",
              "    </tr>\n",
              "    <tr>\n",
              "      <th>08:05</th>\n",
              "      <td>0</td>\n",
              "      <td>0</td>\n",
              "      <td>0</td>\n",
              "      <td>0</td>\n",
              "      <td>1</td>\n",
              "      <td>1</td>\n",
              "      <td>0</td>\n",
              "    </tr>\n",
              "    <tr>\n",
              "      <th>08:06</th>\n",
              "      <td>0</td>\n",
              "      <td>0</td>\n",
              "      <td>0</td>\n",
              "      <td>1</td>\n",
              "      <td>1</td>\n",
              "      <td>1</td>\n",
              "      <td>1</td>\n",
              "    </tr>\n",
              "    <tr>\n",
              "      <th>08:07</th>\n",
              "      <td>0</td>\n",
              "      <td>0</td>\n",
              "      <td>0</td>\n",
              "      <td>1</td>\n",
              "      <td>1</td>\n",
              "      <td>1</td>\n",
              "      <td>1</td>\n",
              "    </tr>\n",
              "    <tr>\n",
              "      <th>08:08</th>\n",
              "      <td>0</td>\n",
              "      <td>0</td>\n",
              "      <td>0</td>\n",
              "      <td>0</td>\n",
              "      <td>0</td>\n",
              "      <td>0</td>\n",
              "      <td>0</td>\n",
              "    </tr>\n",
              "    <tr>\n",
              "      <th>08:09</th>\n",
              "      <td>0</td>\n",
              "      <td>0</td>\n",
              "      <td>0</td>\n",
              "      <td>0</td>\n",
              "      <td>0</td>\n",
              "      <td>0</td>\n",
              "      <td>0</td>\n",
              "    </tr>\n",
              "    <tr>\n",
              "      <th>08:10</th>\n",
              "      <td>0</td>\n",
              "      <td>0</td>\n",
              "      <td>0</td>\n",
              "      <td>0</td>\n",
              "      <td>0</td>\n",
              "      <td>0</td>\n",
              "      <td>0</td>\n",
              "    </tr>\n",
              "    <tr>\n",
              "      <th>08:11</th>\n",
              "      <td>0</td>\n",
              "      <td>0</td>\n",
              "      <td>0</td>\n",
              "      <td>1</td>\n",
              "      <td>1</td>\n",
              "      <td>1</td>\n",
              "      <td>1</td>\n",
              "    </tr>\n",
              "    <tr>\n",
              "      <th>08:12</th>\n",
              "      <td>0</td>\n",
              "      <td>0</td>\n",
              "      <td>0</td>\n",
              "      <td>1</td>\n",
              "      <td>1</td>\n",
              "      <td>1</td>\n",
              "      <td>1</td>\n",
              "    </tr>\n",
              "    <tr>\n",
              "      <th>08:13</th>\n",
              "      <td>0</td>\n",
              "      <td>1</td>\n",
              "      <td>0</td>\n",
              "      <td>0</td>\n",
              "      <td>1</td>\n",
              "      <td>1</td>\n",
              "      <td>1</td>\n",
              "    </tr>\n",
              "    <tr>\n",
              "      <th>08:14</th>\n",
              "      <td>1</td>\n",
              "      <td>0</td>\n",
              "      <td>0</td>\n",
              "      <td>0</td>\n",
              "      <td>1</td>\n",
              "      <td>1</td>\n",
              "      <td>1</td>\n",
              "    </tr>\n",
              "    <tr>\n",
              "      <th>08:15</th>\n",
              "      <td>0</td>\n",
              "      <td>0</td>\n",
              "      <td>0</td>\n",
              "      <td>0</td>\n",
              "      <td>1</td>\n",
              "      <td>1</td>\n",
              "      <td>0</td>\n",
              "    </tr>\n",
              "    <tr>\n",
              "      <th>08:16</th>\n",
              "      <td>0</td>\n",
              "      <td>0</td>\n",
              "      <td>0</td>\n",
              "      <td>0</td>\n",
              "      <td>1</td>\n",
              "      <td>1</td>\n",
              "      <td>0</td>\n",
              "    </tr>\n",
              "    <tr>\n",
              "      <th>08:17</th>\n",
              "      <td>0</td>\n",
              "      <td>0</td>\n",
              "      <td>0</td>\n",
              "      <td>0</td>\n",
              "      <td>1</td>\n",
              "      <td>0</td>\n",
              "      <td>0</td>\n",
              "    </tr>\n",
              "    <tr>\n",
              "      <th>08:18</th>\n",
              "      <td>0</td>\n",
              "      <td>0</td>\n",
              "      <td>0</td>\n",
              "      <td>0</td>\n",
              "      <td>0</td>\n",
              "      <td>0</td>\n",
              "      <td>0</td>\n",
              "    </tr>\n",
              "  </tbody>\n",
              "</table>\n",
              "</div>"
            ],
            "text/plain": [
              "       Stream1  Stream2  Stream3  Stream4  Overall  Truth  Proposed Model\n",
              "08:01        0        0        0        0        0      0               0\n",
              "08:02        0        1        0        0        1      1               1\n",
              "08:03        1        1        0        0        1      1               1\n",
              "08:04        1        0        0        0        1      1               1\n",
              "08:05        0        0        0        0        1      1               0\n",
              "08:06        0        0        0        1        1      1               1\n",
              "08:07        0        0        0        1        1      1               1\n",
              "08:08        0        0        0        0        0      0               0\n",
              "08:09        0        0        0        0        0      0               0\n",
              "08:10        0        0        0        0        0      0               0\n",
              "08:11        0        0        0        1        1      1               1\n",
              "08:12        0        0        0        1        1      1               1\n",
              "08:13        0        1        0        0        1      1               1\n",
              "08:14        1        0        0        0        1      1               1\n",
              "08:15        0        0        0        0        1      1               0\n",
              "08:16        0        0        0        0        1      1               0\n",
              "08:17        0        0        0        0        1      0               0\n",
              "08:18        0        0        0        0        0      0               0"
            ]
          },
          "metadata": {
            "tags": []
          },
          "execution_count": 22
        }
      ]
    },
    {
      "metadata": {
        "id": "1Y883C1KNf4_",
        "colab_type": "text"
      },
      "cell_type": "markdown",
      "source": [
        "####Case2: Now we do it for the 2minute resampled data.\n"
      ]
    },
    {
      "metadata": {
        "id": "RmusrYpVhYUe",
        "colab_type": "code",
        "outputId": "5cf0f7a3-46f8-4c2b-83d9-36f6dacf8c76",
        "colab": {
          "base_uri": "https://localhost:8080/",
          "height": 424
        }
      },
      "cell_type": "code",
      "source": [
        "df2 = OR(data_ts_2min[data_ts.columns[0]],data_ts_2min[data_ts.columns[1]]) # We do the same process as the 1 minute sampled datam with the 2 minute sampled data.\n",
        "for i in range(1,3):\n",
        "  df2 = OR(df2,data_ts_2min[data_ts.columns[i+1]]) # Stream1-4 consecutively OR-ed with each other. \n",
        "fig, ax = plt.subplots(3, 1, sharex=True, sharey=True) # Plotting the plots\n",
        "#print(df.index)\n",
        "#df.index= df.index.strftime(\"%I:%M\")\n",
        "\n",
        "ax[0].plot(data_ts_2min['Overall'])\n",
        "ax[1].plot(data_ts_2min['Truth'])\n",
        "ax[2].plot(df2)\n",
        "\n",
        "for i in range(3):\n",
        "  ax[i].set_title(columns_new[i], fontsize=10, pad=0.5)\n",
        "  if i==1:\n",
        "    ax[i].set(ylabel='Node Streams')\n",
        "  if i==2:\n",
        "    ax[i].set(xlabel='Time-Stamp[2016-07-05 PM]')\n",
        "\n",
        "\n",
        "for axi in ax.flat:\n",
        "    axi.xaxis.set_major_locator(plt.MaxNLocator(10))\n",
        "    #axi.yaxis.set_major_locator(plt.MaxNLocator(2))  \n",
        "\n",
        "caption=\"Plot of Overall,Truth and Proposed Model Outputs vs Time-Frame sampled at 2 minutes\"\n",
        "fig.text(.5, 0.92, caption, ha='center')"
      ],
      "execution_count": 23,
      "outputs": [
        {
          "output_type": "execute_result",
          "data": {
            "text/plain": [
              "Text(0.5, 0.92, 'Plot of Overall,Truth and Proposed Model Outputs vs Time-Frame sampled at 2 minutes')"
            ]
          },
          "metadata": {
            "tags": []
          },
          "execution_count": 23
        },
        {
          "output_type": "display_data",
          "data": {
            "image/png": "[encoded data removed]",
            "text/plain": [
              "<Figure size 576x396 with 3 Axes>"
            ]
          },
          "metadata": {
            "tags": []
          }
        }
      ]
    },
    {
      "metadata": {
        "id": "g1yItY47Nrep",
        "colab_type": "text"
      },
      "cell_type": "markdown",
      "source": [
        "#### Now we analyse from the graph how similar the Perceived Algorithm of the Overall Blackbox is with the original 'Overall' and 'Truth' values for the data taken every 2minutes. \n",
        "Not similar after 8:08pm right?\n",
        "#### Let's prove it analytically again through finding the correlation between each of them with one another and see.\n"
      ]
    },
    {
      "metadata": {
        "id": "J1ma6o2Jhmm8",
        "colab_type": "code",
        "outputId": "6634e0af-aa2f-4fd6-91d7-e96078800311",
        "colab": {
          "base_uri": "https://localhost:8080/",
          "height": 89
        }
      },
      "cell_type": "code",
      "source": [
        "print(df2.corr(data_ts_2min['Overall'])) # Correlation between Perceived Output and Overall\n",
        "print(df2.corr(data_ts_2min['Truth'])) # Correlation between Perceived Output and Truth\n",
        "print(data_ts_2min['Overall'].corr(data_ts_2min['Truth'])) # Correlation between Overall and Truth"
      ],
      "execution_count": 24,
      "outputs": [
        {
          "output_type": "stream",
          "text": [
            "0.5345224838248486\n",
            "0.5345224838248486\n",
            "1.0\n"
          ],
          "name": "stdout"
        }
      ]
    },
    {
      "metadata": {
        "id": "6DdtXhHdz5Ls",
        "colab_type": "text"
      },
      "cell_type": "markdown",
      "source": [
        "We see that the Perceived Algorithm is 53.5% correlated with both, the expected Overall column of the Blackbox, and that of the Truth, which is pretty bad.\n",
        "The correlation between the Overall and the Truth column is 100%, which means, at 2minute intervals, the Overall and the Truth matrix matches-up perfectly, while our expected algorithm performed badly.\n",
        "\n",
        "#### Result\n",
        "We see that the Proposed Model for the 1 minute sampled data does slightly better than the 2 minute sampled data. Clearly loss of information does play a vital role here.\n",
        "\n",
        "In the next section, we critically analyse further and see where actually our proposed algorithm fails."
      ]
    },
    {
      "metadata": {
        "id": "UOEfaQkuO2di",
        "colab_type": "code",
        "outputId": "aa8c3088-3e93-45e7-b974-972e32869e61",
        "colab": {
          "base_uri": "https://localhost:8080/",
          "height": 393
        }
      },
      "cell_type": "code",
      "source": [
        "data_ts_2min['Proposed Model']=df2\n",
        "data_ts_2min"
      ],
      "execution_count": 25,
      "outputs": [
        {
          "output_type": "execute_result",
          "data": {
            "text/html": [
              "<div>\n",
              "<style scoped>\n",
              "    .dataframe tbody tr th:only-of-type {\n",
              "        vertical-align: middle;\n",
              "    }\n",
              "\n",
              "    .dataframe tbody tr th {\n",
              "        vertical-align: top;\n",
              "    }\n",
              "\n",
              "    .dataframe thead th {\n",
              "        text-align: right;\n",
              "    }\n",
              "</style>\n",
              "<table border=\"1\" class=\"dataframe\">\n",
              "  <thead>\n",
              "    <tr style=\"text-align: right;\">\n",
              "      <th></th>\n",
              "      <th>Stream1</th>\n",
              "      <th>Stream2</th>\n",
              "      <th>Stream3</th>\n",
              "      <th>Stream4</th>\n",
              "      <th>Overall</th>\n",
              "      <th>Truth</th>\n",
              "      <th>Proposed Model</th>\n",
              "    </tr>\n",
              "  </thead>\n",
              "  <tbody>\n",
              "    <tr>\n",
              "      <th>08:00</th>\n",
              "      <td>0</td>\n",
              "      <td>0</td>\n",
              "      <td>0</td>\n",
              "      <td>0</td>\n",
              "      <td>0</td>\n",
              "      <td>0</td>\n",
              "      <td>0</td>\n",
              "    </tr>\n",
              "    <tr>\n",
              "      <th>08:02</th>\n",
              "      <td>1</td>\n",
              "      <td>1</td>\n",
              "      <td>0</td>\n",
              "      <td>0</td>\n",
              "      <td>1</td>\n",
              "      <td>1</td>\n",
              "      <td>1</td>\n",
              "    </tr>\n",
              "    <tr>\n",
              "      <th>08:04</th>\n",
              "      <td>1</td>\n",
              "      <td>0</td>\n",
              "      <td>0</td>\n",
              "      <td>0</td>\n",
              "      <td>1</td>\n",
              "      <td>1</td>\n",
              "      <td>1</td>\n",
              "    </tr>\n",
              "    <tr>\n",
              "      <th>08:06</th>\n",
              "      <td>0</td>\n",
              "      <td>0</td>\n",
              "      <td>0</td>\n",
              "      <td>1</td>\n",
              "      <td>1</td>\n",
              "      <td>1</td>\n",
              "      <td>1</td>\n",
              "    </tr>\n",
              "    <tr>\n",
              "      <th>08:08</th>\n",
              "      <td>0</td>\n",
              "      <td>0</td>\n",
              "      <td>0</td>\n",
              "      <td>0</td>\n",
              "      <td>0</td>\n",
              "      <td>0</td>\n",
              "      <td>0</td>\n",
              "    </tr>\n",
              "    <tr>\n",
              "      <th>08:10</th>\n",
              "      <td>0</td>\n",
              "      <td>0</td>\n",
              "      <td>0</td>\n",
              "      <td>0</td>\n",
              "      <td>0</td>\n",
              "      <td>0</td>\n",
              "      <td>0</td>\n",
              "    </tr>\n",
              "    <tr>\n",
              "      <th>08:12</th>\n",
              "      <td>0</td>\n",
              "      <td>0</td>\n",
              "      <td>0</td>\n",
              "      <td>0</td>\n",
              "      <td>1</td>\n",
              "      <td>1</td>\n",
              "      <td>0</td>\n",
              "    </tr>\n",
              "    <tr>\n",
              "      <th>08:14</th>\n",
              "      <td>0</td>\n",
              "      <td>0</td>\n",
              "      <td>0</td>\n",
              "      <td>0</td>\n",
              "      <td>1</td>\n",
              "      <td>1</td>\n",
              "      <td>0</td>\n",
              "    </tr>\n",
              "    <tr>\n",
              "      <th>08:16</th>\n",
              "      <td>0</td>\n",
              "      <td>0</td>\n",
              "      <td>0</td>\n",
              "      <td>0</td>\n",
              "      <td>1</td>\n",
              "      <td>1</td>\n",
              "      <td>0</td>\n",
              "    </tr>\n",
              "    <tr>\n",
              "      <th>08:18</th>\n",
              "      <td>0</td>\n",
              "      <td>0</td>\n",
              "      <td>0</td>\n",
              "      <td>0</td>\n",
              "      <td>0</td>\n",
              "      <td>0</td>\n",
              "      <td>0</td>\n",
              "    </tr>\n",
              "  </tbody>\n",
              "</table>\n",
              "</div>"
            ],
            "text/plain": [
              "       Stream1  Stream2  Stream3  Stream4  Overall  Truth  Proposed Model\n",
              "08:00        0        0        0        0        0      0               0\n",
              "08:02        1        1        0        0        1      1               1\n",
              "08:04        1        0        0        0        1      1               1\n",
              "08:06        0        0        0        1        1      1               1\n",
              "08:08        0        0        0        0        0      0               0\n",
              "08:10        0        0        0        0        0      0               0\n",
              "08:12        0        0        0        0        1      1               0\n",
              "08:14        0        0        0        0        1      1               0\n",
              "08:16        0        0        0        0        1      1               0\n",
              "08:18        0        0        0        0        0      0               0"
            ]
          },
          "metadata": {
            "tags": []
          },
          "execution_count": 25
        }
      ]
    },
    {
      "metadata": {
        "id": "M403II4wb4cw",
        "colab_type": "text"
      },
      "cell_type": "markdown",
      "source": [
        "### So what's wrong? Why is it that the proposed model isn't close to the Overall/Truth?\n",
        "#### Let's do some analysis here\n",
        "If we look at the data from that sampled every minute, we can see at 8:05pm and from 8:14-8:17pm, the model gave an output as 0, which means it didn't detect anyone, while the 'Truth' column, detected a person in the above intervals.\n",
        "Let's see the Proposed model along with the Truth data at these intervals to make better sense."
      ]
    },
    {
      "metadata": {
        "id": "IIumUukMb3cz",
        "colab_type": "code",
        "outputId": "0d2d6948-716e-41b3-d8ad-615e6e826ca2",
        "colab": {
          "base_uri": "https://localhost:8080/",
          "height": 178
        }
      },
      "cell_type": "code",
      "source": [
        "dft1 = data_ts_1min.loc[\"08:05\":\"08:06\"]\n",
        "dft2 = data_ts_1min.loc[\"08:15\":\"08:16\"]\n",
        "dft = pd.concat([dft1,dft2])\n",
        "dft = dft.drop([\"08:06\"])\n",
        "dft\n"
      ],
      "execution_count": 26,
      "outputs": [
        {
          "output_type": "execute_result",
          "data": {
            "text/html": [
              "<div>\n",
              "<style scoped>\n",
              "    .dataframe tbody tr th:only-of-type {\n",
              "        vertical-align: middle;\n",
              "    }\n",
              "\n",
              "    .dataframe tbody tr th {\n",
              "        vertical-align: top;\n",
              "    }\n",
              "\n",
              "    .dataframe thead th {\n",
              "        text-align: right;\n",
              "    }\n",
              "</style>\n",
              "<table border=\"1\" class=\"dataframe\">\n",
              "  <thead>\n",
              "    <tr style=\"text-align: right;\">\n",
              "      <th></th>\n",
              "      <th>Stream1</th>\n",
              "      <th>Stream2</th>\n",
              "      <th>Stream3</th>\n",
              "      <th>Stream4</th>\n",
              "      <th>Overall</th>\n",
              "      <th>Truth</th>\n",
              "      <th>Proposed Model</th>\n",
              "    </tr>\n",
              "  </thead>\n",
              "  <tbody>\n",
              "    <tr>\n",
              "      <th>08:05</th>\n",
              "      <td>0</td>\n",
              "      <td>0</td>\n",
              "      <td>0</td>\n",
              "      <td>0</td>\n",
              "      <td>1</td>\n",
              "      <td>1</td>\n",
              "      <td>0</td>\n",
              "    </tr>\n",
              "    <tr>\n",
              "      <th>08:15</th>\n",
              "      <td>0</td>\n",
              "      <td>0</td>\n",
              "      <td>0</td>\n",
              "      <td>0</td>\n",
              "      <td>1</td>\n",
              "      <td>1</td>\n",
              "      <td>0</td>\n",
              "    </tr>\n",
              "    <tr>\n",
              "      <th>08:16</th>\n",
              "      <td>0</td>\n",
              "      <td>0</td>\n",
              "      <td>0</td>\n",
              "      <td>0</td>\n",
              "      <td>1</td>\n",
              "      <td>1</td>\n",
              "      <td>0</td>\n",
              "    </tr>\n",
              "  </tbody>\n",
              "</table>\n",
              "</div>"
            ],
            "text/plain": [
              "       Stream1  Stream2  Stream3  Stream4  Overall  Truth  Proposed Model\n",
              "08:05        0        0        0        0        1      1               0\n",
              "08:15        0        0        0        0        1      1               0\n",
              "08:16        0        0        0        0        1      1               0"
            ]
          },
          "metadata": {
            "tags": []
          },
          "execution_count": 26
        }
      ]
    },
    {
      "metadata": {
        "id": "1vtzFKM3jRZR",
        "colab_type": "text"
      },
      "cell_type": "markdown",
      "source": [
        "So, what do we notice here? We see that, even if all the Streams are returning False, ie, not detected any person present, the Truth is that someone is.\n",
        "\n",
        "My model functions in the basic logic that, if atleast one of any of the Node's streams is True, ie, it detects something, the whole system should return a True. However, in the above cases, since none of the Nodes are detecting anything, my model would logically return a 0.\n",
        "\n",
        "####This begs the question, why does the Truth column say that there actually is a person present, eventhough none of the Nodes say there is?\n",
        "\n",
        "I can think of 2 possible reasons:\n",
        "\n",
        "####1. There is a blind-spot where all the Nodes cannot reach, and the person is right at that point. \n",
        "####2. (And I think it's most likely)  Node2 isn't functioning properly.\n",
        "\n",
        "Let's discuss the 2nd point.\n",
        "\n",
        "I came to this decision, because, if we see the plots, Node2's stream returned a False everytime during the whole time-interval of the data.\n",
        "\n",
        "Now, when the Truth does mention that a person is detected, and none of the Nodes are returning True for the case, and we have a Node stream that has been return False throughout the time-frame, it wouldn't be a wrong assumption to conclude that the Node, which is Node2, is faulty and acting wierd. \n",
        "\n",
        "So, we are going to violate our Assumption 1. where we assumed all the Nodes to be functioning properly, and with good reasoning, say that all except Node2 (Stream3) function properly."
      ]
    },
    {
      "metadata": {
        "id": "GiCx6smKhI9o",
        "colab_type": "code",
        "outputId": "96b44452-e8cb-486f-b76b-a2e6d2cf07a6",
        "colab": {
          "base_uri": "https://localhost:8080/",
          "height": 99
        }
      },
      "cell_type": "code",
      "source": [
        "# Proof that Node2 (Stream3) is returning False everytime. Let's look at the Original time-series dataframe and see if anywhere Stream3 returns True.\n",
        "data_ts[data_ts['Stream3']==1]"
      ],
      "execution_count": 27,
      "outputs": [
        {
          "output_type": "execute_result",
          "data": {
            "text/html": [
              "<div>\n",
              "<style scoped>\n",
              "    .dataframe tbody tr th:only-of-type {\n",
              "        vertical-align: middle;\n",
              "    }\n",
              "\n",
              "    .dataframe tbody tr th {\n",
              "        vertical-align: top;\n",
              "    }\n",
              "\n",
              "    .dataframe thead th {\n",
              "        text-align: right;\n",
              "    }\n",
              "</style>\n",
              "<table border=\"1\" class=\"dataframe\">\n",
              "  <thead>\n",
              "    <tr style=\"text-align: right;\">\n",
              "      <th></th>\n",
              "      <th>Stream1</th>\n",
              "      <th>Stream2</th>\n",
              "      <th>Stream3</th>\n",
              "      <th>Stream4</th>\n",
              "      <th>Overall</th>\n",
              "      <th>Truth</th>\n",
              "    </tr>\n",
              "    <tr>\n",
              "      <th>Timestamp</th>\n",
              "      <th></th>\n",
              "      <th></th>\n",
              "      <th></th>\n",
              "      <th></th>\n",
              "      <th></th>\n",
              "      <th></th>\n",
              "    </tr>\n",
              "  </thead>\n",
              "  <tbody>\n",
              "  </tbody>\n",
              "</table>\n",
              "</div>"
            ],
            "text/plain": [
              "Empty DataFrame\n",
              "Columns: [Stream1, Stream2, Stream3, Stream4, Overall, Truth]\n",
              "Index: []"
            ]
          },
          "metadata": {
            "tags": []
          },
          "execution_count": 27
        }
      ]
    },
    {
      "metadata": {
        "id": "5su9bDguhnPm",
        "colab_type": "text"
      },
      "cell_type": "markdown",
      "source": [
        "#### We see from above that in-fact Node2 returns False for the whole interval, which lead me to believe Node2 could be faulty."
      ]
    },
    {
      "metadata": {
        "id": "KCJrMwYgxKMk",
        "colab_type": "text"
      },
      "cell_type": "markdown",
      "source": [
        "## Assumption 2: \n",
        "\n",
        "1) Node2 (Stream3) is faulty while other Nodes are working fine. So, let's see a case if Node2 weren't faulty, ie, at the time-stamps where all the Node streams return False, but the 'Truth' actually returns a True, which leads to believe, provided there are no blindspots, that atleast one of the Nodes have to be True, so I will just make Node2 True in these cases and see what happens.\n",
        "\n",
        "2) There is no blindspot where all the Node Streams cannot reach."
      ]
    },
    {
      "metadata": {
        "id": "m2z5ehXbs7nm",
        "colab_type": "text"
      },
      "cell_type": "markdown",
      "source": [
        "### Let's do something interesting. \n",
        "####For the sake of argument, let's make all the Stream3 values from Node2 True when all other Node Streams are False and the Truth is True."
      ]
    },
    {
      "metadata": {
        "id": "da2RVwD3sylf",
        "colab_type": "code",
        "outputId": "8a66641b-2ae1-494d-cdbf-997f3d39f1d7",
        "colab": {
          "base_uri": "https://localhost:8080/",
          "height": 621
        }
      },
      "cell_type": "code",
      "source": [
        "#data_ts_1min\n",
        "data_ts_1min['Stream3'].loc[(data_ts_1min['Stream1'] == 0) & (data_ts_1min['Stream2'] == 0) & (data_ts_1min['Stream3'] == 0) & (data_ts_1min['Stream4'] == 0) & (data_ts_1min['Truth'] == 1)]=1\n",
        "data_ts_1min.loc[(data_ts_1min['Stream1'] == 0) & (data_ts_1min['Stream2'] == 0) & (data_ts_1min['Stream3'] == 0) & (data_ts_1min['Stream4'] == 0) & (data_ts_1min['Truth'] == 1)]\n",
        "data_ts_1min.iloc[:,:-1]"
      ],
      "execution_count": 28,
      "outputs": [
        {
          "output_type": "execute_result",
          "data": {
            "text/html": [
              "<div>\n",
              "<style scoped>\n",
              "    .dataframe tbody tr th:only-of-type {\n",
              "        vertical-align: middle;\n",
              "    }\n",
              "\n",
              "    .dataframe tbody tr th {\n",
              "        vertical-align: top;\n",
              "    }\n",
              "\n",
              "    .dataframe thead th {\n",
              "        text-align: right;\n",
              "    }\n",
              "</style>\n",
              "<table border=\"1\" class=\"dataframe\">\n",
              "  <thead>\n",
              "    <tr style=\"text-align: right;\">\n",
              "      <th></th>\n",
              "      <th>Stream1</th>\n",
              "      <th>Stream2</th>\n",
              "      <th>Stream3</th>\n",
              "      <th>Stream4</th>\n",
              "      <th>Overall</th>\n",
              "      <th>Truth</th>\n",
              "    </tr>\n",
              "  </thead>\n",
              "  <tbody>\n",
              "    <tr>\n",
              "      <th>08:01</th>\n",
              "      <td>0</td>\n",
              "      <td>0</td>\n",
              "      <td>0</td>\n",
              "      <td>0</td>\n",
              "      <td>0</td>\n",
              "      <td>0</td>\n",
              "    </tr>\n",
              "    <tr>\n",
              "      <th>08:02</th>\n",
              "      <td>0</td>\n",
              "      <td>1</td>\n",
              "      <td>0</td>\n",
              "      <td>0</td>\n",
              "      <td>1</td>\n",
              "      <td>1</td>\n",
              "    </tr>\n",
              "    <tr>\n",
              "      <th>08:03</th>\n",
              "      <td>1</td>\n",
              "      <td>1</td>\n",
              "      <td>0</td>\n",
              "      <td>0</td>\n",
              "      <td>1</td>\n",
              "      <td>1</td>\n",
              "    </tr>\n",
              "    <tr>\n",
              "      <th>08:04</th>\n",
              "      <td>1</td>\n",
              "      <td>0</td>\n",
              "      <td>0</td>\n",
              "      <td>0</td>\n",
              "      <td>1</td>\n",
              "      <td>1</td>\n",
              "    </tr>\n",
              "    <tr>\n",
              "      <th>08:05</th>\n",
              "      <td>0</td>\n",
              "      <td>0</td>\n",
              "      <td>1</td>\n",
              "      <td>0</td>\n",
              "      <td>1</td>\n",
              "      <td>1</td>\n",
              "    </tr>\n",
              "    <tr>\n",
              "      <th>08:06</th>\n",
              "      <td>0</td>\n",
              "      <td>0</td>\n",
              "      <td>0</td>\n",
              "      <td>1</td>\n",
              "      <td>1</td>\n",
              "      <td>1</td>\n",
              "    </tr>\n",
              "    <tr>\n",
              "      <th>08:07</th>\n",
              "      <td>0</td>\n",
              "      <td>0</td>\n",
              "      <td>0</td>\n",
              "      <td>1</td>\n",
              "      <td>1</td>\n",
              "      <td>1</td>\n",
              "    </tr>\n",
              "    <tr>\n",
              "      <th>08:08</th>\n",
              "      <td>0</td>\n",
              "      <td>0</td>\n",
              "      <td>0</td>\n",
              "      <td>0</td>\n",
              "      <td>0</td>\n",
              "      <td>0</td>\n",
              "    </tr>\n",
              "    <tr>\n",
              "      <th>08:09</th>\n",
              "      <td>0</td>\n",
              "      <td>0</td>\n",
              "      <td>0</td>\n",
              "      <td>0</td>\n",
              "      <td>0</td>\n",
              "      <td>0</td>\n",
              "    </tr>\n",
              "    <tr>\n",
              "      <th>08:10</th>\n",
              "      <td>0</td>\n",
              "      <td>0</td>\n",
              "      <td>0</td>\n",
              "      <td>0</td>\n",
              "      <td>0</td>\n",
              "      <td>0</td>\n",
              "    </tr>\n",
              "    <tr>\n",
              "      <th>08:11</th>\n",
              "      <td>0</td>\n",
              "      <td>0</td>\n",
              "      <td>0</td>\n",
              "      <td>1</td>\n",
              "      <td>1</td>\n",
              "      <td>1</td>\n",
              "    </tr>\n",
              "    <tr>\n",
              "      <th>08:12</th>\n",
              "      <td>0</td>\n",
              "      <td>0</td>\n",
              "      <td>0</td>\n",
              "      <td>1</td>\n",
              "      <td>1</td>\n",
              "      <td>1</td>\n",
              "    </tr>\n",
              "    <tr>\n",
              "      <th>08:13</th>\n",
              "      <td>0</td>\n",
              "      <td>1</td>\n",
              "      <td>0</td>\n",
              "      <td>0</td>\n",
              "      <td>1</td>\n",
              "      <td>1</td>\n",
              "    </tr>\n",
              "    <tr>\n",
              "      <th>08:14</th>\n",
              "      <td>1</td>\n",
              "      <td>0</td>\n",
              "      <td>0</td>\n",
              "      <td>0</td>\n",
              "      <td>1</td>\n",
              "      <td>1</td>\n",
              "    </tr>\n",
              "    <tr>\n",
              "      <th>08:15</th>\n",
              "      <td>0</td>\n",
              "      <td>0</td>\n",
              "      <td>1</td>\n",
              "      <td>0</td>\n",
              "      <td>1</td>\n",
              "      <td>1</td>\n",
              "    </tr>\n",
              "    <tr>\n",
              "      <th>08:16</th>\n",
              "      <td>0</td>\n",
              "      <td>0</td>\n",
              "      <td>1</td>\n",
              "      <td>0</td>\n",
              "      <td>1</td>\n",
              "      <td>1</td>\n",
              "    </tr>\n",
              "    <tr>\n",
              "      <th>08:17</th>\n",
              "      <td>0</td>\n",
              "      <td>0</td>\n",
              "      <td>0</td>\n",
              "      <td>0</td>\n",
              "      <td>1</td>\n",
              "      <td>0</td>\n",
              "    </tr>\n",
              "    <tr>\n",
              "      <th>08:18</th>\n",
              "      <td>0</td>\n",
              "      <td>0</td>\n",
              "      <td>0</td>\n",
              "      <td>0</td>\n",
              "      <td>0</td>\n",
              "      <td>0</td>\n",
              "    </tr>\n",
              "  </tbody>\n",
              "</table>\n",
              "</div>"
            ],
            "text/plain": [
              "       Stream1  Stream2  Stream3  Stream4  Overall  Truth\n",
              "08:01        0        0        0        0        0      0\n",
              "08:02        0        1        0        0        1      1\n",
              "08:03        1        1        0        0        1      1\n",
              "08:04        1        0        0        0        1      1\n",
              "08:05        0        0        1        0        1      1\n",
              "08:06        0        0        0        1        1      1\n",
              "08:07        0        0        0        1        1      1\n",
              "08:08        0        0        0        0        0      0\n",
              "08:09        0        0        0        0        0      0\n",
              "08:10        0        0        0        0        0      0\n",
              "08:11        0        0        0        1        1      1\n",
              "08:12        0        0        0        1        1      1\n",
              "08:13        0        1        0        0        1      1\n",
              "08:14        1        0        0        0        1      1\n",
              "08:15        0        0        1        0        1      1\n",
              "08:16        0        0        1        0        1      1\n",
              "08:17        0        0        0        0        1      0\n",
              "08:18        0        0        0        0        0      0"
            ]
          },
          "metadata": {
            "tags": []
          },
          "execution_count": 28
        }
      ]
    },
    {
      "metadata": {
        "id": "rUIuTlkfwQNM",
        "colab_type": "text"
      },
      "cell_type": "markdown",
      "source": [
        "#### We can see that the Stream3 values when the Truth is 1 and when all the Node streams are 0 has changed to 1.\n",
        "Now, with this modified dataframe, we apply our Proposed Model and see the correlation."
      ]
    },
    {
      "metadata": {
        "id": "LGvUUgPKwgCs",
        "colab_type": "text"
      },
      "cell_type": "markdown",
      "source": [
        "### Let's find the Proposed Model to this new table."
      ]
    },
    {
      "metadata": {
        "id": "hhVLbDLUwNvh",
        "colab_type": "code",
        "outputId": "3ef86925-d69b-441b-d426-6a97ff55fc18",
        "colab": {
          "base_uri": "https://localhost:8080/",
          "height": 404
        }
      },
      "cell_type": "code",
      "source": [
        "df3 = OR(data_ts_1min[data_ts.columns[0]],data_ts_1min[data_ts.columns[1]])\n",
        "for i in range(1,3):\n",
        "  df3 = OR(df3,data_ts_1min[data_ts.columns[i+1]])\n",
        "\n",
        "fig, ax = plt.subplots(3, 1, sharex=True, sharey=True)\n",
        "#print(df.index)\n",
        "#df.index= df.index.strftime(\"%I:%M\")\n",
        "ax[0].plot(data_ts_1min['Overall'])\n",
        "ax[1].plot(data_ts_1min['Truth'])\n",
        "ax[2].plot(df3)\n",
        "\n",
        "for i in range(3):\n",
        "  ax[i].set_title(columns_new[i], fontsize=10, pad=0.5)\n",
        "  if i==1:\n",
        "    ax[i].set(ylabel='Node Streams')\n",
        "  if i==2:\n",
        "    ax[i].set(xlabel='Time-Stamp[2016-07-05 PM]')\n",
        "\n",
        "\n",
        "for axi in ax.flat:\n",
        "    axi.xaxis.set_major_locator(plt.MaxNLocator(10))\n",
        "    #axi.yaxis.set_major_locator(plt.MaxNLocator(2))  \n",
        "\n",
        "caption=\"Plot of Overall,Truth and Proposed Model Outputs vs Time-Frame sampled at 1 minute\"\n",
        "fig.text(.5, 0.92, caption, ha='center') \n"
      ],
      "execution_count": 29,
      "outputs": [
        {
          "output_type": "execute_result",
          "data": {
            "text/plain": [
              "Text(0.5, 0.92, 'Plot of Overall,Truth and Proposed Model Outputs vs Time-Frame sampled at 1 minute')"
            ]
          },
          "metadata": {
            "tags": []
          },
          "execution_count": 29
        },
        {
          "output_type": "display_data",
          "data": {
            "image/png": "[encoded data removed]",
            "text/plain": [
              "<Figure size 576x396 with 3 Axes>"
            ]
          },
          "metadata": {
            "tags": []
          }
        }
      ]
    },
    {
      "metadata": {
        "id": "J52B4Oq6xKIN",
        "colab_type": "code",
        "outputId": "65808449-7c0b-4e11-820e-a329bda6abe7",
        "colab": {
          "base_uri": "https://localhost:8080/",
          "height": 601
        }
      },
      "cell_type": "code",
      "source": [
        "data_ts_1min['Proposed Model(After Modification)']=df3 # Where 'After Modification' means that assuming Node2 is faulty, so wherever the Truth value is 1 \n",
        "                                                        #when all Node Streams are 0, I changed Node2(Stream3) to 1.\n",
        "# This is just to confirm my Hypothesis, that if Node2 was indeed faulty(which seems likely), and if it weren't, the Proposed algorithm should perform well.  \n",
        "data_ts_1min\n"
      ],
      "execution_count": 30,
      "outputs": [
        {
          "output_type": "execute_result",
          "data": {
            "text/html": [
              "<div>\n",
              "<style scoped>\n",
              "    .dataframe tbody tr th:only-of-type {\n",
              "        vertical-align: middle;\n",
              "    }\n",
              "\n",
              "    .dataframe tbody tr th {\n",
              "        vertical-align: top;\n",
              "    }\n",
              "\n",
              "    .dataframe thead th {\n",
              "        text-align: right;\n",
              "    }\n",
              "</style>\n",
              "<table border=\"1\" class=\"dataframe\">\n",
              "  <thead>\n",
              "    <tr style=\"text-align: right;\">\n",
              "      <th></th>\n",
              "      <th>Stream1</th>\n",
              "      <th>Stream2</th>\n",
              "      <th>Stream3</th>\n",
              "      <th>Stream4</th>\n",
              "      <th>Overall</th>\n",
              "      <th>Truth</th>\n",
              "      <th>Proposed Model</th>\n",
              "      <th>Proposed Model(After Modification)</th>\n",
              "    </tr>\n",
              "  </thead>\n",
              "  <tbody>\n",
              "    <tr>\n",
              "      <th>08:01</th>\n",
              "      <td>0</td>\n",
              "      <td>0</td>\n",
              "      <td>0</td>\n",
              "      <td>0</td>\n",
              "      <td>0</td>\n",
              "      <td>0</td>\n",
              "      <td>0</td>\n",
              "      <td>0</td>\n",
              "    </tr>\n",
              "    <tr>\n",
              "      <th>08:02</th>\n",
              "      <td>0</td>\n",
              "      <td>1</td>\n",
              "      <td>0</td>\n",
              "      <td>0</td>\n",
              "      <td>1</td>\n",
              "      <td>1</td>\n",
              "      <td>1</td>\n",
              "      <td>1</td>\n",
              "    </tr>\n",
              "    <tr>\n",
              "      <th>08:03</th>\n",
              "      <td>1</td>\n",
              "      <td>1</td>\n",
              "      <td>0</td>\n",
              "      <td>0</td>\n",
              "      <td>1</td>\n",
              "      <td>1</td>\n",
              "      <td>1</td>\n",
              "      <td>1</td>\n",
              "    </tr>\n",
              "    <tr>\n",
              "      <th>08:04</th>\n",
              "      <td>1</td>\n",
              "      <td>0</td>\n",
              "      <td>0</td>\n",
              "      <td>0</td>\n",
              "      <td>1</td>\n",
              "      <td>1</td>\n",
              "      <td>1</td>\n",
              "      <td>1</td>\n",
              "    </tr>\n",
              "    <tr>\n",
              "      <th>08:05</th>\n",
              "      <td>0</td>\n",
              "      <td>0</td>\n",
              "      <td>1</td>\n",
              "      <td>0</td>\n",
              "      <td>1</td>\n",
              "      <td>1</td>\n",
              "      <td>0</td>\n",
              "      <td>1</td>\n",
              "    </tr>\n",
              "    <tr>\n",
              "      <th>08:06</th>\n",
              "      <td>0</td>\n",
              "      <td>0</td>\n",
              "      <td>0</td>\n",
              "      <td>1</td>\n",
              "      <td>1</td>\n",
              "      <td>1</td>\n",
              "      <td>1</td>\n",
              "      <td>1</td>\n",
              "    </tr>\n",
              "    <tr>\n",
              "      <th>08:07</th>\n",
              "      <td>0</td>\n",
              "      <td>0</td>\n",
              "      <td>0</td>\n",
              "      <td>1</td>\n",
              "      <td>1</td>\n",
              "      <td>1</td>\n",
              "      <td>1</td>\n",
              "      <td>1</td>\n",
              "    </tr>\n",
              "    <tr>\n",
              "      <th>08:08</th>\n",
              "      <td>0</td>\n",
              "      <td>0</td>\n",
              "      <td>0</td>\n",
              "      <td>0</td>\n",
              "      <td>0</td>\n",
              "      <td>0</td>\n",
              "      <td>0</td>\n",
              "      <td>0</td>\n",
              "    </tr>\n",
              "    <tr>\n",
              "      <th>08:09</th>\n",
              "      <td>0</td>\n",
              "      <td>0</td>\n",
              "      <td>0</td>\n",
              "      <td>0</td>\n",
              "      <td>0</td>\n",
              "      <td>0</td>\n",
              "      <td>0</td>\n",
              "      <td>0</td>\n",
              "    </tr>\n",
              "    <tr>\n",
              "      <th>08:10</th>\n",
              "      <td>0</td>\n",
              "      <td>0</td>\n",
              "      <td>0</td>\n",
              "      <td>0</td>\n",
              "      <td>0</td>\n",
              "      <td>0</td>\n",
              "      <td>0</td>\n",
              "      <td>0</td>\n",
              "    </tr>\n",
              "    <tr>\n",
              "      <th>08:11</th>\n",
              "      <td>0</td>\n",
              "      <td>0</td>\n",
              "      <td>0</td>\n",
              "      <td>1</td>\n",
              "      <td>1</td>\n",
              "      <td>1</td>\n",
              "      <td>1</td>\n",
              "      <td>1</td>\n",
              "    </tr>\n",
              "    <tr>\n",
              "      <th>08:12</th>\n",
              "      <td>0</td>\n",
              "      <td>0</td>\n",
              "      <td>0</td>\n",
              "      <td>1</td>\n",
              "      <td>1</td>\n",
              "      <td>1</td>\n",
              "      <td>1</td>\n",
              "      <td>1</td>\n",
              "    </tr>\n",
              "    <tr>\n",
              "      <th>08:13</th>\n",
              "      <td>0</td>\n",
              "      <td>1</td>\n",
              "      <td>0</td>\n",
              "      <td>0</td>\n",
              "      <td>1</td>\n",
              "      <td>1</td>\n",
              "      <td>1</td>\n",
              "      <td>1</td>\n",
              "    </tr>\n",
              "    <tr>\n",
              "      <th>08:14</th>\n",
              "      <td>1</td>\n",
              "      <td>0</td>\n",
              "      <td>0</td>\n",
              "      <td>0</td>\n",
              "      <td>1</td>\n",
              "      <td>1</td>\n",
              "      <td>1</td>\n",
              "      <td>1</td>\n",
              "    </tr>\n",
              "    <tr>\n",
              "      <th>08:15</th>\n",
              "      <td>0</td>\n",
              "      <td>0</td>\n",
              "      <td>1</td>\n",
              "      <td>0</td>\n",
              "      <td>1</td>\n",
              "      <td>1</td>\n",
              "      <td>0</td>\n",
              "      <td>1</td>\n",
              "    </tr>\n",
              "    <tr>\n",
              "      <th>08:16</th>\n",
              "      <td>0</td>\n",
              "      <td>0</td>\n",
              "      <td>1</td>\n",
              "      <td>0</td>\n",
              "      <td>1</td>\n",
              "      <td>1</td>\n",
              "      <td>0</td>\n",
              "      <td>1</td>\n",
              "    </tr>\n",
              "    <tr>\n",
              "      <th>08:17</th>\n",
              "      <td>0</td>\n",
              "      <td>0</td>\n",
              "      <td>0</td>\n",
              "      <td>0</td>\n",
              "      <td>1</td>\n",
              "      <td>0</td>\n",
              "      <td>0</td>\n",
              "      <td>0</td>\n",
              "    </tr>\n",
              "    <tr>\n",
              "      <th>08:18</th>\n",
              "      <td>0</td>\n",
              "      <td>0</td>\n",
              "      <td>0</td>\n",
              "      <td>0</td>\n",
              "      <td>0</td>\n",
              "      <td>0</td>\n",
              "      <td>0</td>\n",
              "      <td>0</td>\n",
              "    </tr>\n",
              "  </tbody>\n",
              "</table>\n",
              "</div>"
            ],
            "text/plain": [
              "       Stream1  Stream2  Stream3  Stream4  Overall  Truth  Proposed Model  \\\n",
              "08:01        0        0        0        0        0      0               0   \n",
              "08:02        0        1        0        0        1      1               1   \n",
              "08:03        1        1        0        0        1      1               1   \n",
              "08:04        1        0        0        0        1      1               1   \n",
              "08:05        0        0        1        0        1      1               0   \n",
              "08:06        0        0        0        1        1      1               1   \n",
              "08:07        0        0        0        1        1      1               1   \n",
              "08:08        0        0        0        0        0      0               0   \n",
              "08:09        0        0        0        0        0      0               0   \n",
              "08:10        0        0        0        0        0      0               0   \n",
              "08:11        0        0        0        1        1      1               1   \n",
              "08:12        0        0        0        1        1      1               1   \n",
              "08:13        0        1        0        0        1      1               1   \n",
              "08:14        1        0        0        0        1      1               1   \n",
              "08:15        0        0        1        0        1      1               0   \n",
              "08:16        0        0        1        0        1      1               0   \n",
              "08:17        0        0        0        0        1      0               0   \n",
              "08:18        0        0        0        0        0      0               0   \n",
              "\n",
              "       Proposed Model(After Modification)  \n",
              "08:01                                   0  \n",
              "08:02                                   1  \n",
              "08:03                                   1  \n",
              "08:04                                   1  \n",
              "08:05                                   1  \n",
              "08:06                                   1  \n",
              "08:07                                   1  \n",
              "08:08                                   0  \n",
              "08:09                                   0  \n",
              "08:10                                   0  \n",
              "08:11                                   1  \n",
              "08:12                                   1  \n",
              "08:13                                   1  \n",
              "08:14                                   1  \n",
              "08:15                                   1  \n",
              "08:16                                   1  \n",
              "08:17                                   0  \n",
              "08:18                                   0  "
            ]
          },
          "metadata": {
            "tags": []
          },
          "execution_count": 30
        }
      ]
    },
    {
      "metadata": {
        "id": "s6XhpNMjxXQ0",
        "colab_type": "text"
      },
      "cell_type": "markdown",
      "source": [
        "#### Now we analyse from the graph how similar the Proposed Algorithm of the Overall Blackbox is with the original 'Overall' and 'Truth' values for the data. \n",
        "Similar right?\n",
        "#### Let's prove it analytically again through finding the correlation between each of them with one another and see.\n"
      ]
    },
    {
      "metadata": {
        "id": "R-KGS-ojxPJi",
        "colab_type": "code",
        "outputId": "1ef3653a-a8c7-46d7-9c23-fd37cc5cb999",
        "colab": {
          "base_uri": "https://localhost:8080/",
          "height": 89
        }
      },
      "cell_type": "code",
      "source": [
        "print(df3.corr(data_ts_1min['Overall'])) # Correlation between Perceived Output and Overall\n",
        "print(df3.corr(data_ts_1min['Truth'])) # Correlation between Perceived Output and Truth\n",
        "print(data_ts_1min['Overall'].corr(data_ts_1min['Truth'])) # Correlation between Overall and Truth"
      ],
      "execution_count": 31,
      "outputs": [
        {
          "output_type": "stream",
          "text": [
            "0.877058019307029\n",
            "0.9999999999999999\n",
            "0.8770580193070291\n"
          ],
          "name": "stdout"
        }
      ]
    },
    {
      "metadata": {
        "id": "zGakI4SQ0A-E",
        "colab_type": "text"
      },
      "cell_type": "markdown",
      "source": [
        "We see that the Proposed Algorithm is 87.7% correlated with the expected Overall column of the Blackbox, and 99.9% with that of the Truth, which is pretty good.\n",
        "The correlation between the Overall and the Truth column is 87.7%.\n"
      ]
    },
    {
      "metadata": {
        "id": "fI6e7dDFyILr",
        "colab_type": "text"
      },
      "cell_type": "markdown",
      "source": [
        "### What does this Prove?\n",
        "The above results prove that, if Node2 worked as it should have, the Perceived proposed algorithm would have worked very well.\n",
        "\n",
        "Now, this is under the assumption that, Node2 is faulty. But of-course, if Node2 wasn't faulty, and there was some other reason why, even if all the Nodes gave a False, the Truth did say that there was a person present, then the proposed algorithm wouldn't perform this well.\n",
        "Once again, it just didn't make sense to me that the Truth return 1 when all Streams were 0, and so it is a resonable assumption that Node2 could be faulty.\n",
        "\n"
      ]
    },
    {
      "metadata": {
        "id": "i5Ys7uOv1tnj",
        "colab_type": "text"
      },
      "cell_type": "markdown",
      "source": [
        "### Just to check, keeping the above assumption that Node2 is defected and the changes that Node2 stream's values should be 1 when all others' are 0 and Truth is 1,  let's do that for the entire data, instead of the sampled version of 1minute, and see what results we get."
      ]
    },
    {
      "metadata": {
        "id": "fjx4Pv2E2U2j",
        "colab_type": "code",
        "colab": {}
      },
      "cell_type": "code",
      "source": [
        "#Original Data\n",
        "data_orig = data_ts.copy(deep=True)\n",
        "data_orig['Stream3'].loc[(data_orig['Stream1'] == 0) & (data_orig['Stream2'] == 0) & (data_orig['Stream3'] == 0) & (data_orig['Stream4'] == 0) & (data_orig['Truth'] == 1)]=1\n"
      ],
      "execution_count": 0,
      "outputs": []
    },
    {
      "metadata": {
        "id": "RHlgg78y2oML",
        "colab_type": "text"
      },
      "cell_type": "markdown",
      "source": [
        "#### Performing the OR  operation between columns to get the Perceived Model"
      ]
    },
    {
      "metadata": {
        "id": "ATn8PhL-2gN2",
        "colab_type": "code",
        "outputId": "4056a243-5607-49d5-b370-1b1857359621",
        "colab": {
          "base_uri": "https://localhost:8080/",
          "height": 424
        }
      },
      "cell_type": "code",
      "source": [
        "df4 = OR(data_orig[data_ts.columns[0]],data_orig[data_ts.columns[1]])\n",
        "for i in range(1,3):\n",
        "  #print(columns[i+1])\n",
        "  df4 = OR(df4,data_orig[data_ts.columns[i+1]])\n",
        "  \n",
        "fig, ax = plt.subplots(3, 1, sharex=True, sharey=True)\n",
        "#print(df.index)\n",
        "#df4.index= df4.index.strftime(\"%I:%M\")\n",
        "\n",
        "ax[0].plot(data_orig['Overall'])\n",
        "ax[1].plot(data_orig['Truth'])\n",
        "ax[2].plot(df4)\n",
        "\n",
        "for i in range(3):\n",
        "  ax[i].set_title(columns_new[i], fontsize=10, pad=0.5)\n",
        "  if i==1:\n",
        "    ax[i].set(ylabel='Node Streams')\n",
        "  if i==2:\n",
        "    ax[i].set(xlabel='Time-Stamp[2016-07-05 PM]')\n",
        "\n",
        "\n",
        "for axi in ax.flat:\n",
        "    axi.xaxis.set_major_locator(plt.MaxNLocator(10))\n",
        "    #axi.yaxis.set_major_locator(plt.MaxNLocator(2))  \n",
        "\n",
        "caption=\"Plot of Overall,Truth and Proposed Model Outputs vs Time-Frame for the Original data\"\n",
        "fig.text(.5, 0.92, caption, ha='center')"
      ],
      "execution_count": 33,
      "outputs": [
        {
          "output_type": "execute_result",
          "data": {
            "text/plain": [
              "Text(0.5, 0.92, 'Plot of Overall,Truth and Proposed Model Outputs vs Time-Frame for the Original data')"
            ]
          },
          "metadata": {
            "tags": []
          },
          "execution_count": 33
        },
        {
          "output_type": "display_data",
          "data": {
            "image/png": "[encoded data removed]",
            "text/plain": [
              "<Figure size 576x396 with 3 Axes>"
            ]
          },
          "metadata": {
            "tags": []
          }
        }
      ]
    },
    {
      "metadata": {
        "id": "Vnl6Iklx22ly",
        "colab_type": "text"
      },
      "cell_type": "markdown",
      "source": [
        "#### Analysising the output of the Perceived Model with the Overall and Truth columns by correlation."
      ]
    },
    {
      "metadata": {
        "id": "lbKiA2j621yB",
        "colab_type": "code",
        "outputId": "58644501-3f36-421e-9d05-e5e571701234",
        "colab": {
          "base_uri": "https://localhost:8080/",
          "height": 89
        }
      },
      "cell_type": "code",
      "source": [
        "print(df4.corr(data_orig['Overall'])) # Correlation between Perceived Output and Overall\n",
        "print(df4.corr(data_orig['Truth'])) # Correlation between Perceived Output and Truth\n",
        "print(data_orig['Overall'].corr(data_orig['Truth'])) # Correlation between Overall and Truth"
      ],
      "execution_count": 34,
      "outputs": [
        {
          "output_type": "stream",
          "text": [
            "0.7336457659987079\n",
            "0.9996953351888149\n",
            "0.7339871377021754\n"
          ],
          "name": "stdout"
        }
      ]
    },
    {
      "metadata": {
        "id": "6vMWqTcH2_sR",
        "colab_type": "text"
      },
      "cell_type": "markdown",
      "source": [
        "#### We see we get a correlation of 99.9% with the Truth , better than that between the Overall and the Truth.\n",
        "\n",
        "So, this again proves that the assumption that Node2 is faulty could be right."
      ]
    },
    {
      "metadata": {
        "id": "4gHiIX0EyNH6",
        "colab_type": "text"
      },
      "cell_type": "markdown",
      "source": [
        "## Assumption 3: \n",
        "\n",
        "1) All Nodes are working fine.\n",
        "\n",
        "2) There is in-fact a blindspot where all the Node Streams cannot reach, so we will create a new column called 'Blindspot Stream', which will return 1 when other Nodes return 0 , when the Truth says it's actually 1.\n",
        "\n",
        "#### What's the purpose?\n",
        "Maybe from this, can we zone-in the location where the blindspot could be? Let's analyse and see."
      ]
    },
    {
      "metadata": {
        "id": "nzFetQCs8uRe",
        "colab_type": "code",
        "colab": {}
      },
      "cell_type": "code",
      "source": [
        "# For this assumption, because we want to possibly zone-in on the blindspot, we are going to take the original dataframe, without sampling for 1minute/2minutes.\n",
        "data_original = data_ts.copy(deep=True)\n",
        "data_original.index= data_original.index.strftime(\"%I:%M:%S:%f\")\n"
      ],
      "execution_count": 0,
      "outputs": []
    },
    {
      "metadata": {
        "id": "Td8j3Vz19jL_",
        "colab_type": "text"
      },
      "cell_type": "markdown",
      "source": [
        "#### Strategy.\n",
        "\n",
        "In-order to fine the regions where the possible blind-spot is, \n",
        "\n",
        "1) Find the time-stamps where all Streams return 0, and Truth is 1.\n",
        "\n",
        "2) For each of the time-stamp, find the Node-stream which was True Before and After the interval when all the Streams are 0 and Truth is 1.\n",
        "\n",
        "3) The above idea will help us figure out where the person is before and after the time-intervals when the Node Streams couldn't detect the person when in-fact he/she was there."
      ]
    },
    {
      "metadata": {
        "id": "EzB5UnVf-XLg",
        "colab_type": "code",
        "outputId": "6df8ff7b-ec91-43f9-dfa1-b33b84957ab7",
        "colab": {
          "base_uri": "https://localhost:8080/",
          "height": 263
        }
      },
      "cell_type": "code",
      "source": [
        "data_new = data_original.drop(['Overall'], axis=1)\n",
        "data_sum = data_new.sum(axis=1) # Sum all columns, except 'Overall'. # 'Blindspot Interval': The interval where are Nodes returns 0 but the Truth returns 1.\n",
        "before = data_sum[(data_sum>1) & (data_sum.shift(-1)==1)] # Data where the below time-stamp has output of 1 and the current>1. This is the time just before the 'blindspotted' interval \n",
        "#b_curr = data_sum[(data_sum==1) & (data_sum.shift()>1)]\n",
        "after = data_sum[(data_sum>1) & (data_sum.shift()==1)] # Data where the above time-stamp has output of 1 and the current>1. This is the time just after the 'blindspotted' interval\n",
        "#a_curr = data_sum[(data_sum==1) & (data_sum.shift(-1)>1)]\n",
        "  \n",
        "combo = pd.concat([before[:-1],after[1:]], axis=1) # Concatenate the time-stamps Before and After the blindspotted interval\n",
        "y = data_new.loc[combo.index] # Locate those indices in the original data\n",
        "before[:-1] # The time-stamps just before the 'Blindspotted interval'"
      ],
      "execution_count": 36,
      "outputs": [
        {
          "output_type": "execute_result",
          "data": {
            "text/plain": [
              "08:02:15:945000    2\n",
              "08:02:20:502000    2\n",
              "08:05:13:673000    2\n",
              "08:05:25:398000    2\n",
              "08:07:40:173000    2\n",
              "08:11:18:613000    2\n",
              "08:11:19:348000    2\n",
              "08:12:35:898000    2\n",
              "08:14:30:785000    2\n",
              "08:14:33:137000    2\n",
              "08:16:27:171000    2\n",
              "08:16:31:324000    2\n",
              "dtype: int64"
            ]
          },
          "metadata": {
            "tags": []
          },
          "execution_count": 36
        }
      ]
    },
    {
      "metadata": {
        "id": "8JxUUEfDdGw-",
        "colab_type": "code",
        "outputId": "4e94f1b3-745e-4f37-8b07-f27115db272e",
        "colab": {
          "base_uri": "https://localhost:8080/",
          "height": 263
        }
      },
      "cell_type": "code",
      "source": [
        "after[1:]# The time-stamps just after the 'Blindspotted interval'"
      ],
      "execution_count": 37,
      "outputs": [
        {
          "output_type": "execute_result",
          "data": {
            "text/plain": [
              "08:02:16:459000    2\n",
              "08:02:21:972000    2\n",
              "08:05:22:722000    2\n",
              "08:05:49:026000    2\n",
              "08:11:18:356000    2\n",
              "08:11:18:981000    2\n",
              "08:11:19:826000    2\n",
              "08:13:21:100000    2\n",
              "08:14:32:770000    2\n",
              "08:16:22:504000    2\n",
              "08:16:29:009000    2\n",
              "08:17:22:635000    2\n",
              "dtype: int64"
            ]
          },
          "metadata": {
            "tags": []
          },
          "execution_count": 37
        }
      ]
    },
    {
      "metadata": {
        "id": "60hAL1PlfJtI",
        "colab_type": "code",
        "colab": {}
      },
      "cell_type": "code",
      "source": [
        "y = y.drop(['Truth'],axis=1) # Remove the Truth column, so that only the Node Streams remain"
      ],
      "execution_count": 0,
      "outputs": []
    },
    {
      "metadata": {
        "id": "AasJ1Ollf5g5",
        "colab_type": "text"
      },
      "cell_type": "markdown",
      "source": [
        "#### Analysis of the above table\n",
        "What does the table depict?\n",
        "\n"
      ]
    },
    {
      "metadata": {
        "id": "61qtsgzzhdas",
        "colab_type": "code",
        "outputId": "3ddfe451-db8e-4c04-a510-c316f22223ec",
        "colab": {
          "base_uri": "https://localhost:8080/",
          "height": 471
        }
      },
      "cell_type": "code",
      "source": [
        "y2 = y.dot(y.columns) # Finding the node-streams which are 1 in each time-stamp\n",
        "y2"
      ],
      "execution_count": 39,
      "outputs": [
        {
          "output_type": "execute_result",
          "data": {
            "text/plain": [
              "08:02:15:945000    Stream2\n",
              "08:02:16:459000    Stream2\n",
              "08:02:20:502000    Stream2\n",
              "08:02:21:972000    Stream2\n",
              "08:05:13:673000    Stream1\n",
              "08:05:22:722000    Stream1\n",
              "08:05:25:398000    Stream1\n",
              "08:05:49:026000    Stream4\n",
              "08:07:40:173000    Stream4\n",
              "08:11:18:356000    Stream4\n",
              "08:11:18:613000    Stream4\n",
              "08:11:18:981000    Stream4\n",
              "08:11:19:348000    Stream4\n",
              "08:11:19:826000    Stream4\n",
              "08:12:35:898000    Stream4\n",
              "08:13:21:100000    Stream2\n",
              "08:14:30:785000    Stream1\n",
              "08:14:32:770000    Stream1\n",
              "08:14:33:137000    Stream1\n",
              "08:16:22:504000    Stream4\n",
              "08:16:27:171000    Stream4\n",
              "08:16:29:009000    Stream4\n",
              "08:16:31:324000    Stream4\n",
              "08:17:22:635000    Stream2\n",
              "dtype: object"
            ]
          },
          "metadata": {
            "tags": []
          },
          "execution_count": 39
        }
      ]
    },
    {
      "metadata": {
        "id": "RWPnbxHO0dZX",
        "colab_type": "text"
      },
      "cell_type": "markdown",
      "source": [
        "The above dataframe contains the time-stamps just Before and just After those when all Node-Streams are 0 while the Truth is 1.\n",
        "So, as we go alternately, we go like Before,After,Before,After,and so on.\n",
        "\n",
        "#### For Example:\n",
        "\n",
        "Let;s take the first two time-stamps: 08:02:15:945000  and 08:02:16:459000, and let's see Node Streams of the time-stamps that occur in-between and including the two.\n",
        "\n"
      ]
    },
    {
      "metadata": {
        "id": "jbgyNuGxhdW1",
        "colab_type": "code",
        "outputId": "5613c5ec-764b-4b0a-c7d7-50c6c3574571",
        "colab": {
          "base_uri": "https://localhost:8080/",
          "height": 222
        }
      },
      "cell_type": "code",
      "source": [
        "data_original['08:02:15:945000':'08:02:16:459000']"
      ],
      "execution_count": 40,
      "outputs": [
        {
          "output_type": "execute_result",
          "data": {
            "text/html": [
              "<div>\n",
              "<style scoped>\n",
              "    .dataframe tbody tr th:only-of-type {\n",
              "        vertical-align: middle;\n",
              "    }\n",
              "\n",
              "    .dataframe tbody tr th {\n",
              "        vertical-align: top;\n",
              "    }\n",
              "\n",
              "    .dataframe thead th {\n",
              "        text-align: right;\n",
              "    }\n",
              "</style>\n",
              "<table border=\"1\" class=\"dataframe\">\n",
              "  <thead>\n",
              "    <tr style=\"text-align: right;\">\n",
              "      <th></th>\n",
              "      <th>Stream1</th>\n",
              "      <th>Stream2</th>\n",
              "      <th>Stream3</th>\n",
              "      <th>Stream4</th>\n",
              "      <th>Overall</th>\n",
              "      <th>Truth</th>\n",
              "    </tr>\n",
              "  </thead>\n",
              "  <tbody>\n",
              "    <tr>\n",
              "      <th>08:02:15:945000</th>\n",
              "      <td>0</td>\n",
              "      <td>1</td>\n",
              "      <td>0</td>\n",
              "      <td>0</td>\n",
              "      <td>1</td>\n",
              "      <td>1</td>\n",
              "    </tr>\n",
              "    <tr>\n",
              "      <th>08:02:16:092000</th>\n",
              "      <td>0</td>\n",
              "      <td>0</td>\n",
              "      <td>0</td>\n",
              "      <td>0</td>\n",
              "      <td>1</td>\n",
              "      <td>1</td>\n",
              "    </tr>\n",
              "    <tr>\n",
              "      <th>08:02:16:202000</th>\n",
              "      <td>0</td>\n",
              "      <td>0</td>\n",
              "      <td>0</td>\n",
              "      <td>0</td>\n",
              "      <td>1</td>\n",
              "      <td>1</td>\n",
              "    </tr>\n",
              "    <tr>\n",
              "      <th>08:02:16:312000</th>\n",
              "      <td>0</td>\n",
              "      <td>0</td>\n",
              "      <td>0</td>\n",
              "      <td>0</td>\n",
              "      <td>1</td>\n",
              "      <td>1</td>\n",
              "    </tr>\n",
              "    <tr>\n",
              "      <th>08:02:16:459000</th>\n",
              "      <td>0</td>\n",
              "      <td>1</td>\n",
              "      <td>0</td>\n",
              "      <td>0</td>\n",
              "      <td>1</td>\n",
              "      <td>1</td>\n",
              "    </tr>\n",
              "  </tbody>\n",
              "</table>\n",
              "</div>"
            ],
            "text/plain": [
              "                 Stream1  Stream2  Stream3  Stream4  Overall  Truth\n",
              "08:02:15:945000        0        1        0        0        1      1\n",
              "08:02:16:092000        0        0        0        0        1      1\n",
              "08:02:16:202000        0        0        0        0        1      1\n",
              "08:02:16:312000        0        0        0        0        1      1\n",
              "08:02:16:459000        0        1        0        0        1      1"
            ]
          },
          "metadata": {
            "tags": []
          },
          "execution_count": 40
        }
      ]
    },
    {
      "metadata": {
        "id": "RhUypTUxz9-a",
        "colab_type": "text"
      },
      "cell_type": "markdown",
      "source": [
        "#### Let's inspect the above dataframe carefully.\n",
        "1) At 08:02:15:945000\t: We see that the Person is detected by Node1 (Stream2).\n",
        "\n",
        "2) From 08:02:16:092000 to 08:02:16:312000, all the Node Streams return a 0, when clearly the Truth returns a 1, which means none of the Nodes are detecting the person when in-actuality the person is present.\n",
        "\n",
        "3) At 08:02:16:459000, the person is again detected by Node1(Stream2).\n",
        "\n",
        "#### So, what does this mean?\n",
        "1) Before 08:02:16:092000 to 08:02:16:312000, where the person isn't at-all detected, the person is spotted at Node1. Then after 08:02:16:312000, the person is spotted back at Node1.\n",
        "So, somewhere, there is a blindspot which exists around Node1, and at a strategic point such that even the other Nodes can't detect.\n",
        "\n",
        "2) This is what I am trying to find. The 'Before' and 'After' the time-stamp interval where the person is no longer getting detected when in-fact the person is present.\n",
        "\n",
        "3) The logic is that, if we see all these Before and After timestamps, we can form a rough idea where the Blind-spot can be located, so that, if we did place another node at that point, it can further bring the proposed algorithm closer to the Truth's."
      ]
    },
    {
      "metadata": {
        "id": "gOF09zathdVa",
        "colab_type": "code",
        "outputId": "b464a11b-3d50-4f7b-d537-cec43a36243d",
        "colab": {
          "base_uri": "https://localhost:8080/",
          "height": 417
        }
      },
      "cell_type": "code",
      "source": [
        "# Table to better depict y2. Here, index refers to the blindspotted time-intervals where all Node streams are 0 while Truth is 1\n",
        "columns = ['Before','After']\n",
        "index = range(0,12)\n",
        "df_ = pd.DataFrame(index=index, columns=columns)\n",
        "df_['Before']= y2.values[::2]\n",
        "df_['After']= y2.values[1::2]\n",
        "df_"
      ],
      "execution_count": 41,
      "outputs": [
        {
          "output_type": "execute_result",
          "data": {
            "text/html": [
              "<div>\n",
              "<style scoped>\n",
              "    .dataframe tbody tr th:only-of-type {\n",
              "        vertical-align: middle;\n",
              "    }\n",
              "\n",
              "    .dataframe tbody tr th {\n",
              "        vertical-align: top;\n",
              "    }\n",
              "\n",
              "    .dataframe thead th {\n",
              "        text-align: right;\n",
              "    }\n",
              "</style>\n",
              "<table border=\"1\" class=\"dataframe\">\n",
              "  <thead>\n",
              "    <tr style=\"text-align: right;\">\n",
              "      <th></th>\n",
              "      <th>Before</th>\n",
              "      <th>After</th>\n",
              "    </tr>\n",
              "  </thead>\n",
              "  <tbody>\n",
              "    <tr>\n",
              "      <th>0</th>\n",
              "      <td>Stream2</td>\n",
              "      <td>Stream2</td>\n",
              "    </tr>\n",
              "    <tr>\n",
              "      <th>1</th>\n",
              "      <td>Stream2</td>\n",
              "      <td>Stream2</td>\n",
              "    </tr>\n",
              "    <tr>\n",
              "      <th>2</th>\n",
              "      <td>Stream1</td>\n",
              "      <td>Stream1</td>\n",
              "    </tr>\n",
              "    <tr>\n",
              "      <th>3</th>\n",
              "      <td>Stream1</td>\n",
              "      <td>Stream4</td>\n",
              "    </tr>\n",
              "    <tr>\n",
              "      <th>4</th>\n",
              "      <td>Stream4</td>\n",
              "      <td>Stream4</td>\n",
              "    </tr>\n",
              "    <tr>\n",
              "      <th>5</th>\n",
              "      <td>Stream4</td>\n",
              "      <td>Stream4</td>\n",
              "    </tr>\n",
              "    <tr>\n",
              "      <th>6</th>\n",
              "      <td>Stream4</td>\n",
              "      <td>Stream4</td>\n",
              "    </tr>\n",
              "    <tr>\n",
              "      <th>7</th>\n",
              "      <td>Stream4</td>\n",
              "      <td>Stream2</td>\n",
              "    </tr>\n",
              "    <tr>\n",
              "      <th>8</th>\n",
              "      <td>Stream1</td>\n",
              "      <td>Stream1</td>\n",
              "    </tr>\n",
              "    <tr>\n",
              "      <th>9</th>\n",
              "      <td>Stream1</td>\n",
              "      <td>Stream4</td>\n",
              "    </tr>\n",
              "    <tr>\n",
              "      <th>10</th>\n",
              "      <td>Stream4</td>\n",
              "      <td>Stream4</td>\n",
              "    </tr>\n",
              "    <tr>\n",
              "      <th>11</th>\n",
              "      <td>Stream4</td>\n",
              "      <td>Stream2</td>\n",
              "    </tr>\n",
              "  </tbody>\n",
              "</table>\n",
              "</div>"
            ],
            "text/plain": [
              "     Before    After\n",
              "0   Stream2  Stream2\n",
              "1   Stream2  Stream2\n",
              "2   Stream1  Stream1\n",
              "3   Stream1  Stream4\n",
              "4   Stream4  Stream4\n",
              "5   Stream4  Stream4\n",
              "6   Stream4  Stream4\n",
              "7   Stream4  Stream2\n",
              "8   Stream1  Stream1\n",
              "9   Stream1  Stream4\n",
              "10  Stream4  Stream4\n",
              "11  Stream4  Stream2"
            ]
          },
          "metadata": {
            "tags": []
          },
          "execution_count": 41
        }
      ]
    },
    {
      "metadata": {
        "id": "08JAdoqY2Ktp",
        "colab_type": "text"
      },
      "cell_type": "markdown",
      "source": [
        "Since now my goal is understood, let's look at the above data.\n",
        "\n",
        "Below, the terminology, 'interval' means the time-interval when all the NodeStreams don't detect a person, ie, return a 0 , but the Truth returns a 1, ie, a person is present.\n",
        "\n",
        "We see that, for various 'intervals' , the person before that 'interval', and after that 'interval', was seen around different Nodes.\n",
        "\n",
        "1) It's starts off with the Person first at Node1 (Stream2), then the 'interval' happened (time when all nodes didn't detect anything but Truth was 1), then seen again at Node1.\n",
        "\n",
        "2) Then at 08:02:20:502000, the person is spotted at Node1 only, and after the 'interval', spotted at the same place at 08:02:21:972000  .\n",
        "\n",
        "3) Then at 08:05:13:673000, the person is spotted at Node0 , and after the 'interval', spotted at the same place at 08:05:22:722000  .\n",
        "\n",
        "4) Then at 08:05:25:398000, the person is detected at Node0, but after the 'interval' spotted at Node3 at 08:05:49:026000.\n",
        "\n",
        "Like that, we see that the person is detected at a single Node (except Node2) before the 'interval', and spotted after the 'interval' at either the same/different Node (except for Node2), which leads to believe the following:\n",
        "#### The Blindspot is at the center of the room.\n",
        "####Why?\n",
        "Since during the Before and After time-stamps of the 'interval', only one of the Nodes, not more than 1 Node detects the person, so, intuitively, the blindpsot has to be at the center of the room in-order for the above table to make sense.\n",
        "\n",
        "#### Conclusion?\n",
        "If there were an additional Node placed at the center of the room, it would the person, and the Proposed algorithm of ORing between Node-streams would work very well, in-fact it will be the exact same correlation results as obtained in Assumpion2 (where it was assumed that if there wasn't a blindspot, and Node2 was functioning properly, so during the 'intervals', logically Node2 (Stream3) should return a True when all others don't detect anything, when in-fact the person is actually present)\n",
        "\n",
        "So, if the Assumption is that all the Nodes arew working just fine, thus there is indeed a blinspot, and that blindspot is located at the center, so if another node is present at that location, we can have 99.9% correlation between the Proposed Algorithm and the Truth (same as the Assumption2 results)"
      ]
    },
    {
      "metadata": {
        "id": "PCiceeo9OfjI",
        "colab_type": "text"
      },
      "cell_type": "markdown",
      "source": [
        "# More Analysis.\n",
        "### Can we, from the data, somehow predict the path taken by the person? Let's see!"
      ]
    },
    {
      "metadata": {
        "id": "iKZlHxES1pJL",
        "colab_type": "code",
        "outputId": "60eecb83-2047-48c4-d2fb-f0257eaf930b",
        "colab": {
          "base_uri": "https://localhost:8080/",
          "height": 387
        }
      },
      "cell_type": "code",
      "source": [
        "import datetime as dt\n",
        "data_ts_1_mean = data_ts.resample('1min').mean() # Find the mean of the Node-Streams between the sampled time-intervals\n",
        "fig, ax = plt.subplots(6, 1, sharex=True, sharey=True)\n",
        "data_ts_1_mean.index= data_ts_1_mean.index.strftime(\"%I:%M\")\n",
        "for i,j in enumerate(data_ts.columns,1):\n",
        "  #plt.subplot(6,1,i)\n",
        "  df = data_ts_1_mean[j]\n",
        "  ax[i-1].plot(df)\n",
        "  ax[i-1].set_title(data_ts.columns[i-1], fontsize=10, pad=0.5)\n",
        "  if i==3:\n",
        "    ax[i-1].set(ylabel='Node Streams (Mean)')\n",
        "  if i==6:\n",
        "    ax[i-1].set(xlabel='Time-Stamp[2016-07-05 PM]')\n",
        "#ax.xlabel('Time-Stamp (PM)')\n",
        "for axi in ax.flat:\n",
        "    axi.xaxis.set_major_locator(plt.MaxNLocator(10)) # Controls number of ticks at the axes. Here 10 is fine along the x-axis.\n",
        "    #axi.yaxis.set_major_locator(plt.MaxNLocator(2))\n",
        "\n",
        "caption=\"Plot of Mean of Node Streams(1-4) vs Time-Frame sampled every minute\"\n",
        "fig.text(.5, 0.92, caption, ha='center')\n",
        "\n",
        "for axi in ax.flat:\n",
        "    axi.xaxis.set_major_locator(plt.MaxNLocator(10))\n",
        "    #axi.yaxis.set_major_locator(plt.MaxNLocator(2))"
      ],
      "execution_count": 42,
      "outputs": [
        {
          "output_type": "display_data",
          "data": {
            "image/png": "[encoded data removed]",
            "text/plain": [
              "<Figure size 576x396 with 6 Axes>"
            ]
          },
          "metadata": {
            "tags": []
          }
        }
      ]
    },
    {
      "metadata": {
        "id": "qRheD6pMe3Jr",
        "colab_type": "text"
      },
      "cell_type": "markdown",
      "source": [
        "#### How would we go about finding the 'rough' path taken by the person?\n",
        "1. Firstly, I mentioned 'rough' path, because, it makes sense to plot the data from all the 4 Nodes for every 1minute, instead of all the values as we just need some sort of skeleton of the movements of the person from 8:01-8:18pm. \n",
        "2. To find the 'rough' movement, I first sampled the data for every 1minute, and for the Node streams values that occur within that minute, I took a mean so that we can get a percentage where the person is with-respect-to all the Nodes. \n",
        "3. Below is the Dataframe containing the mean across the sampled 1minute data, and after that, I am going to plot a scatter-plot so that we can visulaize which Nodes 'light up' at each minute from 8:01-8:18pm, and at what percentage, so that we can estimate the path taken by the person.\n",
        "4. Here, 'person' is just a relative term. It could be 2 different people, one present during some interval and leaving, and an other coming in in the next. The point of this is just to predict the path of a person using the Node data obtained.\n"
      ]
    },
    {
      "metadata": {
        "id": "VXZ8-in715IF",
        "colab_type": "code",
        "outputId": "0f275add-6757-4873-dd77-d0b31bdea171",
        "colab": {
          "base_uri": "https://localhost:8080/",
          "height": 621
        }
      },
      "cell_type": "code",
      "source": [
        "data_ts_1_mean\n",
        "data_mean = data_ts_1_mean[['Stream1','Stream2','Stream3','Stream4']]\n",
        "#data_ts[data_ts['Stream3']==1]\n",
        "data_ts_1_mean"
      ],
      "execution_count": 43,
      "outputs": [
        {
          "output_type": "execute_result",
          "data": {
            "text/html": [
              "<div>\n",
              "<style scoped>\n",
              "    .dataframe tbody tr th:only-of-type {\n",
              "        vertical-align: middle;\n",
              "    }\n",
              "\n",
              "    .dataframe tbody tr th {\n",
              "        vertical-align: top;\n",
              "    }\n",
              "\n",
              "    .dataframe thead th {\n",
              "        text-align: right;\n",
              "    }\n",
              "</style>\n",
              "<table border=\"1\" class=\"dataframe\">\n",
              "  <thead>\n",
              "    <tr style=\"text-align: right;\">\n",
              "      <th></th>\n",
              "      <th>Stream1</th>\n",
              "      <th>Stream2</th>\n",
              "      <th>Stream3</th>\n",
              "      <th>Stream4</th>\n",
              "      <th>Overall</th>\n",
              "      <th>Truth</th>\n",
              "    </tr>\n",
              "  </thead>\n",
              "  <tbody>\n",
              "    <tr>\n",
              "      <th>08:01</th>\n",
              "      <td>0.000000</td>\n",
              "      <td>0.000000</td>\n",
              "      <td>0.0</td>\n",
              "      <td>0.000000</td>\n",
              "      <td>0.000000</td>\n",
              "      <td>0.000000</td>\n",
              "    </tr>\n",
              "    <tr>\n",
              "      <th>08:02</th>\n",
              "      <td>0.048980</td>\n",
              "      <td>0.732653</td>\n",
              "      <td>0.0</td>\n",
              "      <td>0.171429</td>\n",
              "      <td>0.861224</td>\n",
              "      <td>0.889796</td>\n",
              "    </tr>\n",
              "    <tr>\n",
              "      <th>08:03</th>\n",
              "      <td>0.997959</td>\n",
              "      <td>0.651020</td>\n",
              "      <td>0.0</td>\n",
              "      <td>0.000000</td>\n",
              "      <td>1.000000</td>\n",
              "      <td>1.000000</td>\n",
              "    </tr>\n",
              "    <tr>\n",
              "      <th>08:04</th>\n",
              "      <td>1.000000</td>\n",
              "      <td>0.153061</td>\n",
              "      <td>0.0</td>\n",
              "      <td>0.000000</td>\n",
              "      <td>1.000000</td>\n",
              "      <td>1.000000</td>\n",
              "    </tr>\n",
              "    <tr>\n",
              "      <th>08:05</th>\n",
              "      <td>0.274949</td>\n",
              "      <td>0.050916</td>\n",
              "      <td>0.0</td>\n",
              "      <td>0.183299</td>\n",
              "      <td>1.000000</td>\n",
              "      <td>1.000000</td>\n",
              "    </tr>\n",
              "    <tr>\n",
              "      <th>08:06</th>\n",
              "      <td>0.000000</td>\n",
              "      <td>0.055102</td>\n",
              "      <td>0.0</td>\n",
              "      <td>1.000000</td>\n",
              "      <td>1.000000</td>\n",
              "      <td>1.000000</td>\n",
              "    </tr>\n",
              "    <tr>\n",
              "      <th>08:07</th>\n",
              "      <td>0.000000</td>\n",
              "      <td>0.000000</td>\n",
              "      <td>0.0</td>\n",
              "      <td>0.671429</td>\n",
              "      <td>1.000000</td>\n",
              "      <td>1.000000</td>\n",
              "    </tr>\n",
              "    <tr>\n",
              "      <th>08:08</th>\n",
              "      <td>0.000000</td>\n",
              "      <td>0.000000</td>\n",
              "      <td>0.0</td>\n",
              "      <td>0.000000</td>\n",
              "      <td>0.455102</td>\n",
              "      <td>0.093878</td>\n",
              "    </tr>\n",
              "    <tr>\n",
              "      <th>08:09</th>\n",
              "      <td>0.000000</td>\n",
              "      <td>0.002041</td>\n",
              "      <td>0.0</td>\n",
              "      <td>0.000000</td>\n",
              "      <td>0.000000</td>\n",
              "      <td>0.000000</td>\n",
              "    </tr>\n",
              "    <tr>\n",
              "      <th>08:10</th>\n",
              "      <td>0.000000</td>\n",
              "      <td>0.000000</td>\n",
              "      <td>0.0</td>\n",
              "      <td>0.000000</td>\n",
              "      <td>0.000000</td>\n",
              "      <td>0.000000</td>\n",
              "    </tr>\n",
              "    <tr>\n",
              "      <th>08:11</th>\n",
              "      <td>0.000000</td>\n",
              "      <td>0.000000</td>\n",
              "      <td>0.0</td>\n",
              "      <td>0.685714</td>\n",
              "      <td>0.695918</td>\n",
              "      <td>0.736735</td>\n",
              "    </tr>\n",
              "    <tr>\n",
              "      <th>08:12</th>\n",
              "      <td>0.000000</td>\n",
              "      <td>0.024540</td>\n",
              "      <td>0.0</td>\n",
              "      <td>0.599182</td>\n",
              "      <td>1.000000</td>\n",
              "      <td>1.000000</td>\n",
              "    </tr>\n",
              "    <tr>\n",
              "      <th>08:13</th>\n",
              "      <td>0.044990</td>\n",
              "      <td>0.648262</td>\n",
              "      <td>0.0</td>\n",
              "      <td>0.000000</td>\n",
              "      <td>1.000000</td>\n",
              "      <td>1.000000</td>\n",
              "    </tr>\n",
              "    <tr>\n",
              "      <th>08:14</th>\n",
              "      <td>0.522449</td>\n",
              "      <td>0.463265</td>\n",
              "      <td>0.0</td>\n",
              "      <td>0.000000</td>\n",
              "      <td>1.000000</td>\n",
              "      <td>1.000000</td>\n",
              "    </tr>\n",
              "    <tr>\n",
              "      <th>08:15</th>\n",
              "      <td>0.000000</td>\n",
              "      <td>0.000000</td>\n",
              "      <td>0.0</td>\n",
              "      <td>0.000000</td>\n",
              "      <td>0.512245</td>\n",
              "      <td>1.000000</td>\n",
              "    </tr>\n",
              "    <tr>\n",
              "      <th>08:16</th>\n",
              "      <td>0.030612</td>\n",
              "      <td>0.000000</td>\n",
              "      <td>0.0</td>\n",
              "      <td>0.120408</td>\n",
              "      <td>0.667347</td>\n",
              "      <td>1.000000</td>\n",
              "    </tr>\n",
              "    <tr>\n",
              "      <th>08:17</th>\n",
              "      <td>0.000000</td>\n",
              "      <td>0.024440</td>\n",
              "      <td>0.0</td>\n",
              "      <td>0.000000</td>\n",
              "      <td>1.000000</td>\n",
              "      <td>0.482688</td>\n",
              "    </tr>\n",
              "    <tr>\n",
              "      <th>08:18</th>\n",
              "      <td>0.000000</td>\n",
              "      <td>0.000000</td>\n",
              "      <td>0.0</td>\n",
              "      <td>0.000000</td>\n",
              "      <td>0.034091</td>\n",
              "      <td>0.000000</td>\n",
              "    </tr>\n",
              "  </tbody>\n",
              "</table>\n",
              "</div>"
            ],
            "text/plain": [
              "        Stream1   Stream2  Stream3   Stream4   Overall     Truth\n",
              "08:01  0.000000  0.000000      0.0  0.000000  0.000000  0.000000\n",
              "08:02  0.048980  0.732653      0.0  0.171429  0.861224  0.889796\n",
              "08:03  0.997959  0.651020      0.0  0.000000  1.000000  1.000000\n",
              "08:04  1.000000  0.153061      0.0  0.000000  1.000000  1.000000\n",
              "08:05  0.274949  0.050916      0.0  0.183299  1.000000  1.000000\n",
              "08:06  0.000000  0.055102      0.0  1.000000  1.000000  1.000000\n",
              "08:07  0.000000  0.000000      0.0  0.671429  1.000000  1.000000\n",
              "08:08  0.000000  0.000000      0.0  0.000000  0.455102  0.093878\n",
              "08:09  0.000000  0.002041      0.0  0.000000  0.000000  0.000000\n",
              "08:10  0.000000  0.000000      0.0  0.000000  0.000000  0.000000\n",
              "08:11  0.000000  0.000000      0.0  0.685714  0.695918  0.736735\n",
              "08:12  0.000000  0.024540      0.0  0.599182  1.000000  1.000000\n",
              "08:13  0.044990  0.648262      0.0  0.000000  1.000000  1.000000\n",
              "08:14  0.522449  0.463265      0.0  0.000000  1.000000  1.000000\n",
              "08:15  0.000000  0.000000      0.0  0.000000  0.512245  1.000000\n",
              "08:16  0.030612  0.000000      0.0  0.120408  0.667347  1.000000\n",
              "08:17  0.000000  0.024440      0.0  0.000000  1.000000  0.482688\n",
              "08:18  0.000000  0.000000      0.0  0.000000  0.034091  0.000000"
            ]
          },
          "metadata": {
            "tags": []
          },
          "execution_count": 43
        }
      ]
    },
    {
      "metadata": {
        "id": "P-WLaMlmhDNB",
        "colab_type": "text"
      },
      "cell_type": "markdown",
      "source": [
        "### The Scatter-Plot of the Node-Streams at each time-interval sampled at 1 minute from 8:01pm - 8:18pm"
      ]
    },
    {
      "metadata": {
        "id": "iGOeyI_COZwQ",
        "colab_type": "code",
        "outputId": "541b17be-cdd6-4504-bb04-08620f5788cd",
        "colab": {
          "base_uri": "https://localhost:8080/",
          "height": 408
        }
      },
      "cell_type": "code",
      "source": [
        "x = data_mean.index\n",
        "\n",
        "fig, ax = plt.subplots()\n",
        "ax.scatter(x, data_mean['Stream1'], s = 30)\n",
        "ax.scatter(x, data_mean['Stream2'], s = 30)\n",
        "ax.scatter(x, data_mean['Stream3'], s = 30)\n",
        "ax.scatter(x, data_mean['Stream4'], s = 30)\n",
        "ax.xaxis.set_major_locator(plt.MaxNLocator(10))\n",
        "\n",
        "#ax.legend()\n",
        "patches, labels = ax.get_legend_handles_labels()\n",
        "ax.legend(patches, labels, loc='upper right', frameon=True)\n",
        "ax.set(xlabel='Time-Stamp[2016-07-05 PM]')\n",
        "ax.set(ylabel='Mean Value between minute across Node Streams ')\n",
        "ax.set_title('Plot of Node Streams (Mean) occuring every minute', fontsize=10, pad=1)\n",
        "\n"
      ],
      "execution_count": 44,
      "outputs": [
        {
          "output_type": "execute_result",
          "data": {
            "text/plain": [
              "Text(0.5, 1.0, 'Plot of Node Streams (Mean) occuring every minute')"
            ]
          },
          "metadata": {
            "tags": []
          },
          "execution_count": 44
        },
        {
          "output_type": "display_data",
          "data": {
            "image/png": "[encoded data removed]",
            "text/plain": [
              "<Figure size 576x396 with 1 Axes>"
            ]
          },
          "metadata": {
            "tags": []
          }
        }
      ]
    },
    {
      "metadata": {
        "id": "5F57hjzGhfWw",
        "colab_type": "text"
      },
      "cell_type": "markdown",
      "source": [
        "### Just for more information, a Ranking-based table of the Average Path taken, based on the mean for every Node-Stream during each minute."
      ]
    },
    {
      "metadata": {
        "id": "4OoKhlEx3Dxh",
        "colab_type": "code",
        "outputId": "0f76a3e9-afc5-4dfe-96f7-e52664be1c5b",
        "colab": {
          "base_uri": "https://localhost:8080/",
          "height": 601
        }
      },
      "cell_type": "code",
      "source": [
        "data_mini = data_ts_1_mean.iloc[:,:-2]\n",
        "#print(data_mini)\n",
        "data_mini = data_mini[data_mini>0]\n",
        "ranked = data_mini.rank(1, ascending=False, method='first') # Rank the values in each row in descending order\n",
        "ranked = ranked.fillna(\"Not Here\") # Node-Streams that don't occur within that minute is flagged as 'Not here'\n",
        "ranked\n"
      ],
      "execution_count": 45,
      "outputs": [
        {
          "output_type": "execute_result",
          "data": {
            "text/html": [
              "<div>\n",
              "<style scoped>\n",
              "    .dataframe tbody tr th:only-of-type {\n",
              "        vertical-align: middle;\n",
              "    }\n",
              "\n",
              "    .dataframe tbody tr th {\n",
              "        vertical-align: top;\n",
              "    }\n",
              "\n",
              "    .dataframe thead th {\n",
              "        text-align: right;\n",
              "    }\n",
              "</style>\n",
              "<table border=\"1\" class=\"dataframe\">\n",
              "  <thead>\n",
              "    <tr style=\"text-align: right;\">\n",
              "      <th></th>\n",
              "      <th>Stream1</th>\n",
              "      <th>Stream2</th>\n",
              "      <th>Stream3</th>\n",
              "      <th>Stream4</th>\n",
              "    </tr>\n",
              "  </thead>\n",
              "  <tbody>\n",
              "    <tr>\n",
              "      <th>08:01</th>\n",
              "      <td>Not Here</td>\n",
              "      <td>Not Here</td>\n",
              "      <td>Not Here</td>\n",
              "      <td>Not Here</td>\n",
              "    </tr>\n",
              "    <tr>\n",
              "      <th>08:02</th>\n",
              "      <td>3</td>\n",
              "      <td>1</td>\n",
              "      <td>Not Here</td>\n",
              "      <td>2</td>\n",
              "    </tr>\n",
              "    <tr>\n",
              "      <th>08:03</th>\n",
              "      <td>1</td>\n",
              "      <td>2</td>\n",
              "      <td>Not Here</td>\n",
              "      <td>Not Here</td>\n",
              "    </tr>\n",
              "    <tr>\n",
              "      <th>08:04</th>\n",
              "      <td>1</td>\n",
              "      <td>2</td>\n",
              "      <td>Not Here</td>\n",
              "      <td>Not Here</td>\n",
              "    </tr>\n",
              "    <tr>\n",
              "      <th>08:05</th>\n",
              "      <td>1</td>\n",
              "      <td>3</td>\n",
              "      <td>Not Here</td>\n",
              "      <td>2</td>\n",
              "    </tr>\n",
              "    <tr>\n",
              "      <th>08:06</th>\n",
              "      <td>Not Here</td>\n",
              "      <td>2</td>\n",
              "      <td>Not Here</td>\n",
              "      <td>1</td>\n",
              "    </tr>\n",
              "    <tr>\n",
              "      <th>08:07</th>\n",
              "      <td>Not Here</td>\n",
              "      <td>Not Here</td>\n",
              "      <td>Not Here</td>\n",
              "      <td>1</td>\n",
              "    </tr>\n",
              "    <tr>\n",
              "      <th>08:08</th>\n",
              "      <td>Not Here</td>\n",
              "      <td>Not Here</td>\n",
              "      <td>Not Here</td>\n",
              "      <td>Not Here</td>\n",
              "    </tr>\n",
              "    <tr>\n",
              "      <th>08:09</th>\n",
              "      <td>Not Here</td>\n",
              "      <td>1</td>\n",
              "      <td>Not Here</td>\n",
              "      <td>Not Here</td>\n",
              "    </tr>\n",
              "    <tr>\n",
              "      <th>08:10</th>\n",
              "      <td>Not Here</td>\n",
              "      <td>Not Here</td>\n",
              "      <td>Not Here</td>\n",
              "      <td>Not Here</td>\n",
              "    </tr>\n",
              "    <tr>\n",
              "      <th>08:11</th>\n",
              "      <td>Not Here</td>\n",
              "      <td>Not Here</td>\n",
              "      <td>Not Here</td>\n",
              "      <td>1</td>\n",
              "    </tr>\n",
              "    <tr>\n",
              "      <th>08:12</th>\n",
              "      <td>Not Here</td>\n",
              "      <td>2</td>\n",
              "      <td>Not Here</td>\n",
              "      <td>1</td>\n",
              "    </tr>\n",
              "    <tr>\n",
              "      <th>08:13</th>\n",
              "      <td>2</td>\n",
              "      <td>1</td>\n",
              "      <td>Not Here</td>\n",
              "      <td>Not Here</td>\n",
              "    </tr>\n",
              "    <tr>\n",
              "      <th>08:14</th>\n",
              "      <td>1</td>\n",
              "      <td>2</td>\n",
              "      <td>Not Here</td>\n",
              "      <td>Not Here</td>\n",
              "    </tr>\n",
              "    <tr>\n",
              "      <th>08:15</th>\n",
              "      <td>Not Here</td>\n",
              "      <td>Not Here</td>\n",
              "      <td>Not Here</td>\n",
              "      <td>Not Here</td>\n",
              "    </tr>\n",
              "    <tr>\n",
              "      <th>08:16</th>\n",
              "      <td>2</td>\n",
              "      <td>Not Here</td>\n",
              "      <td>Not Here</td>\n",
              "      <td>1</td>\n",
              "    </tr>\n",
              "    <tr>\n",
              "      <th>08:17</th>\n",
              "      <td>Not Here</td>\n",
              "      <td>1</td>\n",
              "      <td>Not Here</td>\n",
              "      <td>Not Here</td>\n",
              "    </tr>\n",
              "    <tr>\n",
              "      <th>08:18</th>\n",
              "      <td>Not Here</td>\n",
              "      <td>Not Here</td>\n",
              "      <td>Not Here</td>\n",
              "      <td>Not Here</td>\n",
              "    </tr>\n",
              "  </tbody>\n",
              "</table>\n",
              "</div>"
            ],
            "text/plain": [
              "        Stream1   Stream2   Stream3   Stream4\n",
              "08:01  Not Here  Not Here  Not Here  Not Here\n",
              "08:02         3         1  Not Here         2\n",
              "08:03         1         2  Not Here  Not Here\n",
              "08:04         1         2  Not Here  Not Here\n",
              "08:05         1         3  Not Here         2\n",
              "08:06  Not Here         2  Not Here         1\n",
              "08:07  Not Here  Not Here  Not Here         1\n",
              "08:08  Not Here  Not Here  Not Here  Not Here\n",
              "08:09  Not Here         1  Not Here  Not Here\n",
              "08:10  Not Here  Not Here  Not Here  Not Here\n",
              "08:11  Not Here  Not Here  Not Here         1\n",
              "08:12  Not Here         2  Not Here         1\n",
              "08:13         2         1  Not Here  Not Here\n",
              "08:14         1         2  Not Here  Not Here\n",
              "08:15  Not Here  Not Here  Not Here  Not Here\n",
              "08:16         2  Not Here  Not Here         1\n",
              "08:17  Not Here         1  Not Here  Not Here\n",
              "08:18  Not Here  Not Here  Not Here  Not Here"
            ]
          },
          "metadata": {
            "tags": []
          },
          "execution_count": 45
        }
      ]
    },
    {
      "metadata": {
        "id": "z5_3hIpfZWj5",
        "colab_type": "text"
      },
      "cell_type": "markdown",
      "source": [
        "### The above table thus shows the mean path travelled by the person every minute, and each time-instant is ranked by the amount he is present at that Node. Lower the rank, higher will be the person in-proximity around that Node."
      ]
    },
    {
      "metadata": {
        "id": "dd9dFiDRnIyR",
        "colab_type": "text"
      },
      "cell_type": "markdown",
      "source": [
        "# Conclusion\n",
        "\n",
        "The following assumptions were made in the time-series data, and the tasks and results of ech assumption are given below:\n",
        "\n",
        "## Assumption 1:\n",
        "1) All Nodes work fine\n",
        "\n",
        "2) There are no Blindspots\n",
        "### Proposed Methology that closely should mimic 'Truth'\n",
        "ORing consecutive Node Streams(1-4).\n",
        "#### Logic:\n",
        "If atleast 1 of the Nodes detected a person, then the Overall BlackBox should have an Output of 1.\n",
        "### Results:\n",
        "Correlation b/w the Proposed method and the Truth is 70.7% for 1minute sampled data, and 53% for 2minute sampled data\n",
        "### Reason of low correlation and Inference:\n",
        "1) We see that, there are time-intervals when all the Nodes do not detect anything, but the Truth says that there is a person.\n",
        "\n",
        "2) The above situation cannot be solved by an algorithm because we need atleast one Node stream to detect the person, if the person is actually there.\n",
        "\n",
        "3) This lead to the hypothesis that either a Node is faulty, or there exists a blind-spot where none of the Nodes can reach- which gives the motivation for the following below assumptions.\n",
        "\n",
        "## Assumption 2:\n",
        "1) Node 2(Stream3) is faulty\n",
        "\n",
        "2) There are no Blindspots\n",
        "### Proposed Methology that closely should mimic 'Truth'\n",
        "ORing consecutive Node Streams(1-4).\n",
        "#### Logic:\n",
        "If atleast 1 of the Nodes detected a person, then the Overall BlackBox should have an Output of 1.\n",
        "#### Task\n",
        "The tasks under this assumption is more of an assurance that Node2 could be faulty.\n",
        "The first reason which lead to concluding Node2 might be faulty was it's constant output of 0 even in the situations where all the nodes do output 0 when in-fact the Truth is 1. This points to something strange occuring with Node2 (provided of-course there are no blindspots).\n",
        "\n",
        "To prove this, the intervals where the Truth says 1 when all Nodes output 0 are changed to 1 for Node2 (Stream3).\n",
        "### Results:\n",
        "Correlation b/w the Proposed method and the Truth is 99.9% for 1minute sampled data, and 99.9% for the original un-sampled data.\n",
        "### Inference:\n",
        "Again, the tasks employed in under this assumption was to just check if the Node2 were to detect something when all others didnt detect anything eventhough there is someone actually present, would the correlation be better than Assumption1 and would proposed algorithm perform as intended, which was true in both counts.\n",
        "\n",
        "## Assumption 3:\n",
        "1) All Nodes are fine\n",
        "\n",
        "2) There is a Blindspot where none of the Nodes can reach.\n",
        "### Proposed Methology that closely should mimic 'Truth'\n",
        "ORing consecutive Node Streams(1-4).\n",
        "#### Logic:\n",
        "If atleast 1 of the Nodes detected a person, then the Overall BlackBox should have an Output of 1.\n",
        "#### Task\n",
        "The tasks to prove the hypothesis that there could be a blindspot and the approximate position of it are as follows:\n",
        "\n",
        "1) First, the time-intervals where the Truth returns 1 despite all the Node return 0 are noted.\n",
        "\n",
        "2) The time just before the above interval occurs and that just after the said interval occurs are collected and concatenated into a dataframe.\n",
        "\n",
        "3) The resulting dataframe will have pairs of time-stamps where each pair consists of Before and After (the 'blindspotted' interval) Node stream values, and further simplifed to see in a particular time-stamp which Node Stream gets activated.  \n",
        "##### Purpose?\n",
        "The location of the person just before the interval and just after the interval will help to pinpoint where the person could be in the 'blindspotted interval'\n",
        "### Results:\n",
        "\n",
        "1)Upon inspection, it was concluded that the Blindspot exists at the center of the room due to reasons mentioned.\n",
        "\n",
        "2)Correlation b/w the Proposed method and the Truth will be the same as that from Assumption2 as we are just creating a new column of Node which gives 1 during the blindspotted interval. So it will be 99.9% for 1minute sampled data, and 99.9% for the original un-sampled data, exactly the same.\n",
        "### Inference:\n",
        "The presence of the Blind-spot shows that, if we can intorduce a new Node at that position, we can capture the data which was overlooked by the other Nodes, and get a good result.\n",
        "\n",
        "## Assumption 4:\n",
        "I didn't do this, but it's important to state it here. Assumption3 can be modified in this way as well. Node2 is faulty, and removed completely, and the blindspot exists. But here, the blindspot  wouldn't necessarily be in center, as in the absence of Node2, it could be that the person would be closer to Node2, which would create a wider blindspot.\n",
        "\n",
        "In conclusion, the Proposed algorithm seems very trivial as one would just require atleast 1 Node stream to detect something for the Overall Blackbox to give 1 as it's verdict, as there could be lot of false positives as well.\n",
        "But for the task, this proved to do well and mimic the Truth column, which is the goal.\n",
        "\n",
        "## Conjectures about the Black-Box algorithm\n",
        "1) Since it does involve data streaming in real-time, so data analytics,wrangling,etc are probably done through SQL-based stream processors like Kafka.\n",
        "\n",
        "2) The Final decision of True/False from a Node stream is made probably by also considering the temporal relationship of the data through maybe a sliding/moving average window."
      ]
    }
  ]
}